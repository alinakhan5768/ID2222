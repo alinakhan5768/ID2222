{
 "cells": [
  {
   "cell_type": "markdown",
   "metadata": {},
   "source": [
    "# Homework 1: Locally Sensitive Hashing\n",
    "Locality Sensitive Hashing (LSH) is a technique used in computer science to solve the approximate or exact Near Neighbor Search in high-dimensional spaces. It is used to find similar items in a large dataset by hashing input items so that similar items map to the same \"buckets\" with high probability. LSH is commonly used in recommendation systems, image and audio recognition, and data mining.\n",
    "\n",
    "In this particular notebook we will implement a simplified version of the LSH algorithm for to compare texts and find how similar are. We will implement 4 classes which will help us to compute how similar 2 texts are. Those classes are: Shingling, CompareSets, MinHasing and CompareSignatures."
   ]
  },
  {
   "cell_type": "markdown",
   "metadata": {},
   "source": [
    "## Dataset\n",
    "As a dataset, we have used the following texts:\n",
    " - Lorem Ipsum with 5 paragraphs (https://www.lipsum.com/)\\[1.txt\\]\n",
    " - Lorem Ipsum with 7 paragraphs (https://www.lipsum.com/)\\[2.txt\\]\n",
    " - Quijote de la Mancha by Miguel de Cervantes (https://www.gutenberg.org/cache/epub/60884/pg60884.txt)\\[3.txt\\]\n",
    " - The Adventures of Sherlock Holmes by Arthur Conan Doyle (https://www.gutenberg.org/cache/epub/1661/pg1661.txt)\\[4.txt\\]\n",
    " - The picture of Dorian Gray by Oscar Wilde (https://www.gutenberg.org/cache/epub/174/pg174.txt)\\[5.txt\\]\n",
    " - Beyond good and evil by Friedrich Wilheim Nietzsche (https://www.gutenberg.org/cache/epub/4363/pg4363.txt)\\[6.txt\\]\n",
    "\n",
    "This dataset has been selected like this, so it has two text which should be fairly similar (1 & 2), a text which should be fairly different (3) and three texts which should have something in common even though they may be different (4, 5 & 6).\n",
    "\n",
    "In this notebook we have implemented 4 classes which we will help us to compute the similarity of 2 texts. Those classes are: Shingling, CompareSets, MinHashing and CompareSignatures."
   ]
  },
  {
   "cell_type": "code",
   "execution_count": 1,
   "metadata": {},
   "outputs": [
    {
     "name": "stdout",
     "output_type": "stream",
     "text": [
      "Lorem ipsum dolor sit amet, consectetur adipiscing elit. Aliquam placerat nisi quis tempus semper. Fusce eu dapibus leo, id convallis orci. Vestibulum a ligula nulla. Quisque tincidunt sem hendrerit arcu pulvinar convallis. Quisque pellentesque diam vel nunc condimentum, in pulvinar mi volutpat. In vitae lorem justo. Nullam id gravida libero. Nunc ligula mauris, tincidunt eu nisl eu, tincidunt pharetra purus. Nulla cursus euismod rhoncus. In commodo magna ut mollis condimentum. Cras ut augue id nulla molestie hendrerit ut consequat mauris.\n",
      "\n",
      "Sed at tempor enim. Ut commodo congue orci quis vestibulum. Nam condimentum et tortor sed maximus. Maecenas tempor dui eu volutpat iaculis. Sed a orci ut mauris lobortis mollis. Ut dictum vestibulum arcu, quis rhoncus dolor imperdiet id. Donec eget vulputate ex, vel cursus eros. Donec pretium odio ac nibh iaculis, ac dictum eros lacinia. Donec eu varius mi. Morbi a dignissim leo. Pellentesque facilisis justo vel sapien eleifend facilisis. In fermentum dui nulla, in congue nulla porttitor eu. Curabitur eget egestas justo, et tincidunt est. Pellentesque suscipit molestie sem, ut placerat libero. Cras convallis pretium orci eu faucibus. Integer feugiat tellus massa, a malesuada purus tincidunt non.\n",
      "\n",
      "Nunc posuere ultrices enim, vitae condimentum lorem aliquet ornare. Sed eu eros at lorem feugiat finibus vel vitae tellus. Fusce interdum pulvinar sapien, at porttitor lorem. Cras sed est vitae massa ornare feugiat sed ut est. Vestibulum vitae sapien efficitur, feugiat lectus vel, ultrices justo. In sed sem sit amet lectus imperdiet imperdiet quis quis elit. Duis nec diam sed ipsum bibendum hendrerit. Etiam ac dapibus ipsum. Sed sed volutpat augue.\n",
      "\n",
      "Maecenas et viverra urna, nec lobortis neque. Proin fermentum feugiat est, ac gravida erat faucibus id. Maecenas varius augue rhoncus quam elementum, nec tempus quam consectetur. Etiam tellus ante, varius a ullamcorper ut, sollicitudin non ante. Nullam molestie dui eget fermentum feugiat. Suspendisse potenti. Nam egestas semper feugiat. Nunc nec felis in est mattis pharetra quis sit amet sapien. Morbi eget enim porttitor, tincidunt nunc a, pretium orci. Cras nisi sapien, gravida vel orci a, lobortis molestie mauris. Maecenas euismod sollicitudin mi vel semper. Suspendisse eget turpis lobortis augue luctus laoreet sed ac est.\n",
      "\n",
      "Suspendisse eu ornare est, eu molestie mi. Fusce et efficitur augue. Suspendisse gravida, nulla a vestibulum sollicitudin, odio nisi rhoncus massa, sed consectetur augue turpis a nibh. Phasellus a congue erat. In ac massa quis arcu ornare efficitur nec sit amet sapien. Mauris mi magna, ultricies eu hendrerit at, congue in ipsum. Sed rutrum lacinia justo tincidunt posuere.\n",
      "\n",
      "Proin sagittis sem sit amet luctus semper. Pellentesque eu risus volutpat, hendrerit odio id, mollis ipsum. Nunc eget est ut sem dictum convallis in at sapien. Maecenas enim risus, vestibulum et ornare ac, malesuada sit amet risus. Aenean urna magna, consectetur eu nunc quis, auctor faucibus lorem. Donec lacus ante, aliquam tempor interdum in, accumsan ac ex. Vestibulum quis rutrum dui. Proin dapibus rhoncus mattis. Cras egestas ante tortor, a mollis velit facilisis eu. Ut faucibus vulputate diam, a commodo ex. Sed vulputate lectus non lacus auctor, in condimentum augue consectetur. Pellentesque efficitur ac velit eget accumsan. Proin vel magna nunc.\n",
      "\n",
      "Suspendisse iaculis diam dolor, a euismod justo egestas nec. Maecenas dapibus non quam at dapibus. Vestibulum in tellus est. Class aptent taciti sociosqu ad litora torquent per conubia nostra, per inceptos himenaeos. Lorem ipsum dolor sit amet, consectetur adipiscing elit. Proin euismod, arcu eget semper rhoncus, nulla purus pellentesque leo, sit amet rhoncus felis ante vel mi. Nunc consectetur dapibus lorem eu luctus. Nunc pharetra ante quis tempus porta. Vestibulum nec tempus metus. \n"
     ]
    }
   ],
   "source": [
    "import os\n",
    "\n",
    "dataset_path: str = \"dataset\"\n",
    "\n",
    "texts: list[str] = []\n",
    "\n",
    "for filename in os.listdir(dataset_path):\n",
    "    if filename.endswith(\".txt\"):\n",
    "        with open(os.path.join(dataset_path, filename), \"r\") as f:\n",
    "            text = f.read()\n",
    "            texts.append(text)\n",
    "\n",
    "print(texts[4])\n"
   ]
  },
  {
   "cell_type": "markdown",
   "metadata": {},
   "source": [
    "## Shingling\n",
    "Shingling is a technique used in text analysis to represent a document as a set of overlapping subsequences of fixed length k, called k-shingles. To compute shingles, we slide a window of size k over the document and extract the k-length substrings that fall within the window. We then store these substrings as a set, which represents the shingles of the document."
   ]
  },
  {
   "cell_type": "code",
   "execution_count": 2,
   "metadata": {},
   "outputs": [],
   "source": [
    "class Shingling():\n",
    "    \n",
    "    def __init__(self, k: int):\n",
    "        self.k: int = k\n",
    "        \n",
    "    def get_shingles(self, document: str) -> set:\n",
    "        \"\"\"\n",
    "        This method constructs k-shingles of a given length k from a given document.\n",
    "        \"\"\"\n",
    "        shingles: set = set()\n",
    "        for i in range(len(document) - self.k + 1):\n",
    "            shingle: str = document[i:i+self.k]\n",
    "            shingles.add(shingle)\n",
    "        return shingles\n",
    "    \n",
    "    def get_hashed_shingles(self, document: str):\n",
    "        \"\"\"\n",
    "        This method computes a hash value for each unique shingle and represents the document in the form of an ordered set of its hashed k-shingles.\n",
    "        \"\"\"\n",
    "        shingles: set = self.get_shingles(document)\n",
    "        hashed_shingles: list[int] = [hash(shingle) for shingle in shingles]\n",
    "        hashed_shingles.sort()\n",
    "        return hashed_shingles"
   ]
  },
  {
   "cell_type": "markdown",
   "metadata": {},
   "source": [
    "As an example to show what is shingling, we will use the following text:\n",
    "> \"The quick brown fox jumps over the lazy dog\"\n",
    "\n",
    "We can see that the text is divided on chunks of 3 characters like \"fox\", \"the\" or \"dog\". If there is a space in the middle it is also considered as a character. So, if we want to get the shingles of this text with a k=3, we will get the following shingles:"
   ]
  },
  {
   "cell_type": "code",
   "execution_count": 3,
   "metadata": {},
   "outputs": [
    {
     "name": "stdout",
     "output_type": "stream",
     "text": [
      "{'azy', 'zy ', 'ver', ' ju', 'he ', 'k b', 'ck ', 'er ', ' th', 'y d', 'bro', 'e l', 'ick', ' br', 'n f', 'x j', 'the', ' la', 'e q', 'qui', 's o', 'row', 'r t', 'wn ', ' qu', 'dog', 'ps ', 'The', 'ove', 'fox', 'laz', ' ov', 'mps', ' do', ' fo', 'ump', 'uic', 'ox ', 'jum', 'own'}\n"
     ]
    }
   ],
   "source": [
    "example_text_1: str = \"The quick brown fox jumps over the lazy dog\"\n",
    "example_text_2: str = \"The agile black cat leaps over the active dog\"\n",
    "\n",
    "shingling: Shingling = Shingling(k=3)\n",
    "\n",
    "example_shingles_1: list[str] = shingling.get_shingles(example_text_1)\n",
    "print(example_shingles_1)\n",
    "\n",
    "example_hashed_shingles_texts: list[list[int]] = []\n",
    "for text in [example_text_1, example_text_2]:\n",
    "    example_hashed_shingles: int = shingling.get_hashed_shingles(text)\n",
    "    example_hashed_shingles_texts.append(example_hashed_shingles)"
   ]
  },
  {
   "cell_type": "markdown",
   "metadata": {},
   "source": [
    "Now we do it with our text. We use a k=9 as we are analyzing text from books instead of emails. In the following lines we are doing exactly the same as we showed in the example above. In this case we will compute the hash of each shingle and we will store it in a set. We will do this for each text."
   ]
  },
  {
   "cell_type": "code",
   "execution_count": 4,
   "metadata": {},
   "outputs": [],
   "source": [
    "shingling: Shingling = Shingling(k=9)\n",
    "\n",
    "hashed_shingles_texts: list[list[int]] = []\n",
    "\n",
    "for text in texts:\n",
    "    hashed_shingles: int = shingling.get_hashed_shingles(text)\n",
    "    hashed_shingles_texts.append(hashed_shingles)"
   ]
  },
  {
   "cell_type": "markdown",
   "metadata": {},
   "source": [
    "## MinHashing\n",
    "### One-hot encoding\n",
    "Before computing the MinHashing we will use the **One-hot encoding** to represent the shingles of each text. This will help us to compute the Jaccard similarity. To create the one-hot encoding for each text we create a set with all the shingles of all the texts. Then, for each text we create a vector with the size of the set of all shingles. If the shingle is in the text, we will put a 1 in the vector, otherwise we will put a 0. This way we will have a vector for each text with the size of the set of all shingles. We will do this for each text."
   ]
  },
  {
   "cell_type": "code",
   "execution_count": 5,
   "metadata": {},
   "outputs": [
    {
     "name": "stdout",
     "output_type": "stream",
     "text": [
      "[[1, 1, 1, 0, 1, 0, 0, 1, 0, 1, 1, 1, 0, 0, 1, 0, 1, 1, 1, 1, 1, 1, 1, 1, 0, 1, 0, 1, 1, 0, 0, 0, 0, 1, 1, 1, 0, 0, 1, 0, 1, 1, 0, 0, 1, 0, 0, 0, 0, 1, 1, 1, 1, 1, 0, 1, 1, 0, 1, 1, 0, 0, 1, 1, 1, 0, 1], [0, 0, 1, 1, 0, 1, 1, 1, 1, 1, 1, 0, 1, 1, 0, 1, 0, 0, 1, 0, 0, 0, 0, 1, 1, 0, 1, 0, 0, 1, 1, 1, 1, 1, 0, 1, 1, 1, 0, 1, 0, 1, 1, 1, 1, 1, 1, 1, 1, 1, 1, 0, 0, 0, 1, 0, 1, 1, 1, 0, 1, 1, 0, 0, 0, 1, 0]]\n"
     ]
    }
   ],
   "source": [
    "example_vocab_hashed: set = set()\n",
    "for hashed_shingles in example_hashed_shingles_texts:\n",
    "    for hashed_shingle in hashed_shingles:\n",
    "        example_vocab_hashed.add(hashed_shingle)\n",
    "\n",
    "example_matrix_one_hot_encoding: list[list[int]] = []\n",
    "for hashed_shingles in example_hashed_shingles_texts:\n",
    "    example_one_hot_encoding: list[int] = [1 if x in hashed_shingles else 0 for x in example_vocab_hashed]\n",
    "    example_matrix_one_hot_encoding.append(example_one_hot_encoding)\n",
    "print(example_matrix_one_hot_encoding)"
   ]
  },
  {
   "cell_type": "markdown",
   "metadata": {},
   "source": [
    "In the following code we do the same, but with the larger texts we originally had."
   ]
  },
  {
   "cell_type": "code",
   "execution_count": 6,
   "metadata": {},
   "outputs": [],
   "source": [
    "vocab_hashed: set = set()\n",
    "for hashed_shingles in hashed_shingles_texts:\n",
    "    for hashed_shingle in hashed_shingles:\n",
    "        vocab_hashed.add(hashed_shingle)\n",
    "\n",
    "matrix_one_hot_encoding: list[list[int]] = []\n",
    "for hashed_shingles in hashed_shingles_texts:\n",
    "    one_hot_encoding: list[int] = [1 if x in hashed_shingles else 0 for x in vocab_hashed]\n",
    "    matrix_one_hot_encoding.append(one_hot_encoding)\n"
   ]
  },
  {
   "cell_type": "markdown",
   "metadata": {},
   "source": [
    "### MinHashing\n",
    "Now that we have the one-hot encoding for each text, we need to shuffle the texts multiple in order to create the signatures, which will be used to compute the similarity between the texts. We will do this by using the **MinHashing** technique. \n",
    "\n",
    "To compute the signature of each text we look at each col of the one-hot encoding. We need to find the first row which has a 1. We will store the row number in the signature. We will do this for each col of the one-hot encoding. This way we will have a signature for each text. We will do this for each text.\n",
    "\n",
    "We will use our previous example to show how MinHashing works. First of all, we create a list with all the indexes."
   ]
  },
  {
   "cell_type": "code",
   "execution_count": 7,
   "metadata": {},
   "outputs": [
    {
     "name": "stdout",
     "output_type": "stream",
     "text": [
      "[1, 2, 3, 4, 5, 6, 7, 8, 9, 10, 11, 12, 13, 14, 15, 16, 17, 18, 19, 20, 21, 22, 23, 24, 25, 26, 27, 28, 29, 30, 31, 32, 33, 34, 35, 36, 37, 38, 39, 40, 41, 42, 43, 44, 45, 46, 47, 48, 49, 50, 51, 52, 53, 54, 55, 56, 57, 58, 59, 60, 61, 62, 63, 64, 65, 66, 67]\n"
     ]
    }
   ],
   "source": [
    "example_hash_indexes: list[int] = list(range(1, len(example_vocab_hashed)+1))\n",
    "print(example_hash_indexes)"
   ]
  },
  {
   "cell_type": "markdown",
   "metadata": {},
   "source": [
    "After we have the list, we shuffle it one time (in this case). We will use this shuffled list to compute the signature of each text. We will do this for each text."
   ]
  },
  {
   "cell_type": "code",
   "execution_count": 8,
   "metadata": {},
   "outputs": [
    {
     "name": "stdout",
     "output_type": "stream",
     "text": [
      "1 -> 11\n",
      "2 -> 53\n",
      "3 -> 37\n",
      "4 -> 39\n",
      "5 -> 42\n",
      "6 -> 31\n",
      "7 -> 62\n",
      "8 -> 52\n",
      "9 -> 29\n"
     ]
    }
   ],
   "source": [
    "from random import shuffle\n",
    "\n",
    "shuffle(example_hash_indexes)\n",
    "\n",
    "for i in range(1, 10):\n",
    "    print(f\"{i} -> {example_hash_indexes.index(i)}\")"
   ]
  },
  {
   "cell_type": "markdown",
   "metadata": {},
   "source": [
    "The following class MinHashing is used to compute all the different shuffle needed to create the signature. It can be thought as an auxiliary class which assists Signature. Basically, it does what we have shown previously. In this case we can set as well how many shuffles we want to do. One shuffle is equivalent to one bit in the signature."
   ]
  },
  {
   "cell_type": "code",
   "execution_count": 9,
   "metadata": {},
   "outputs": [],
   "source": [
    "class MinHashing():\n",
    "\n",
    "    def __init__(self, vocab_size: int, nbits: int):\n",
    "        self.vocab_size: int = vocab_size\n",
    "        self.nbits: int = nbits\n",
    "        self.hashes: list[int] = []\n",
    "\n",
    "    def create_hash_functions(self) -> list[int]:\n",
    "        \"\"\"\n",
    "        Function for creating the hash vector / function\n",
    "        \"\"\"\n",
    "        hash_indexes: list[int] = list(range(1, self.vocab_size+1))\n",
    "        shuffle(hash_indexes)\n",
    "        return hash_indexes\n",
    "    \n",
    "    def build_minhashing_functions(self) -> list[int]:\n",
    "        \"\"\"\n",
    "        Function for building multiple minhashing vectors\n",
    "        \"\"\"\n",
    "        hashes: list[int] = []\n",
    "        for _ in range(self.nbits):\n",
    "            hashes.append(\n",
    "                self.create_hash_functions()\n",
    "            )\n",
    "        return hashes "
   ]
  },
  {
   "cell_type": "markdown",
   "metadata": {},
   "source": [
    "### Signature\n",
    "To illustrate how the creation of the signature works, we will illustrate first how the signature finds the first bit. In this case it looks for the first index with a 1 in the column. This index will be the first bit of the signature. We will do this for each column of the one-hot encoding. This way we will have a signature for each text. We will do this for each text. "
   ]
  },
  {
   "cell_type": "code",
   "execution_count": 10,
   "metadata": {},
   "outputs": [
    {
     "name": "stdout",
     "output_type": "stream",
     "text": [
      "1. Index: 11 -> 0\n",
      "2. Index: 53 -> 0\n",
      "3. Index: 37 -> 0\n",
      "4. Index: 39 -> 0\n",
      "5. Index: 42 -> 0\n",
      "6. Index: 31 -> 0\n",
      "7. Index: 62 -> 1\n",
      "Match!\n"
     ]
    }
   ],
   "source": [
    "for i in range(1, len(example_vocab_hashed)+1):\n",
    "    idx: int = example_hash_indexes.index(i)\n",
    "    signature_value: int = matrix_one_hot_encoding[0][idx]\n",
    "    print(f\"{i}. Index: {idx} -> {signature_value}\")\n",
    "    if signature_value == 1:\n",
    "        print(\"Match!\")\n",
    "        break"
   ]
  },
  {
   "cell_type": "markdown",
   "metadata": {},
   "source": [
    "As we can see, after a several indexes, we find a 1. When we have the match, we store the index in the signature. We will do this for each text. For example, if the signature is of 20 bits, we will do this 20 times.\n",
    "\n",
    "To compute this in a more systematic way, we have the class Signature which does all this computations. Internally, it computes the minhashing to create the different shuffled vectors for the indexes and then it computes the signature. We will do this for each text."
   ]
  },
  {
   "cell_type": "code",
   "execution_count": 22,
   "metadata": {},
   "outputs": [],
   "source": [
    "class Signature():\n",
    "    \n",
    "    def __init__(self, matrix_one_hot_encoding: list[list[int]], nbits: int = 20):\n",
    "        self.vocab_size: int = len(matrix_one_hot_encoding[0])\n",
    "        minhashing = MinHashing(self.vocab_size, nbits)\n",
    "        self.minhash_functions: list[int] = minhashing.build_minhashing_functions()\n",
    "\n",
    "    def create_hash(self, vector: list[int]) -> list[int]:\n",
    "        \"\"\"\n",
    "        This function creates our signatures matching the 1s\n",
    "        \"\"\"\n",
    "        signature: list[int] = []\n",
    "        for function in self.minhash_functions:\n",
    "            for i in range(1, self.vocab_size+1):\n",
    "                idx: int = function.index(i)\n",
    "                signature_value: int = vector[idx]\n",
    "                if signature_value == 1:\n",
    "                    signature.append(idx)\n",
    "                    break\n",
    "        return signature"
   ]
  },
  {
   "cell_type": "markdown",
   "metadata": {},
   "source": [
    "Now, we will look which are the signatures with the examples texts. Later, we will use this signatures to compute the similarity between the texts."
   ]
  },
  {
   "cell_type": "code",
   "execution_count": 12,
   "metadata": {},
   "outputs": [
    {
     "name": "stdout",
     "output_type": "stream",
     "text": [
      "26\n",
      "13\n",
      "27\n",
      "35\n",
      "37\n",
      "38\n",
      "35\n",
      "23\n",
      "38\n",
      "12\n",
      "28\n",
      "13\n",
      "28\n",
      "40\n",
      "34\n",
      "16\n",
      "36\n",
      "18\n",
      "33\n",
      "39\n",
      "26\n",
      "28\n",
      "6\n",
      "12\n",
      "35\n",
      "34\n",
      "22\n",
      "11\n",
      "38\n",
      "16\n",
      "[27, 35, 38, 35, 23, 38, 28, 28, 40, 34, 16, 18, 33, 28, 35, 34, 22, 11, 38, 16]\n",
      "26\n",
      "35\n",
      "37\n",
      "35\n",
      "23\n",
      "38\n",
      "24\n",
      "12\n",
      "13\n",
      "40\n",
      "29\n",
      "34\n",
      "10\n",
      "16\n",
      "41\n",
      "36\n",
      "33\n",
      "39\n",
      "6\n",
      "34\n",
      "12\n",
      "22\n",
      "41\n",
      "11\n",
      "1\n",
      "7\n",
      "38\n",
      "10\n",
      "16\n",
      "18\n",
      "[26, 35, 37, 35, 23, 24, 12, 13, 29, 10, 41, 36, 33, 39, 6, 12, 41, 7, 10, 18]\n"
     ]
    }
   ],
   "source": [
    "example_texts_signatures: Signature = Signature(\n",
    "    [example_text_1, example_text_2], nbits = 20\n",
    ")\n",
    "\n",
    "example_text_1_signature: list[int] = example_texts_signatures.create_hash(example_matrix_one_hot_encoding[0])\n",
    "print(example_text_1_signature)\n",
    "\n",
    "example_text_2_signature: list[int] = example_texts_signatures.create_hash(example_matrix_one_hot_encoding[1])\n",
    "print(example_text_2_signature)"
   ]
  },
  {
   "cell_type": "markdown",
   "metadata": {},
   "source": [
    "In this examples, we can see that some values in the signature are similar. This means that the texts are similar at least in some part. This makes sense as if we look at the examples text we can see that they have some words in common.\n",
    "\n",
    "- Example text 1: \"The quick brown fox jumps over the lazy dog\"\n",
    "- Example text 2: \"The agile black cat leaps over the active dog\"\n",
    "\n",
    "In this example, we can expect that there is some similarity, as there are some similar words like \"dog\", \"over\" or \"the\". However, we can see that the similarity is not that high. This is because the texts are not that similar.\n",
    "\n",
    "Now we do it, with our dataset, instead of the examples."
   ]
  },
  {
   "cell_type": "code",
   "execution_count": 23,
   "metadata": {},
   "outputs": [
    {
     "name": "stdout",
     "output_type": "stream",
     "text": [
      "[[2635, 2914, 10921, 2294, 17232, 14032, 11054, 6967, 2064, 14304, 12721, 8752, 12889, 8620, 14102, 1403, 11352, 16719, 5324, 3666, 16468, 16138, 15167, 5015, 6843, 5933, 14505, 11044, 15752, 15508, 2740, 16572, 4703, 5655, 9548, 13565, 4814, 10176, 829, 13236, 2630, 345, 2240, 15406, 6857, 17784, 14680, 18244, 11222, 16428, 7210, 5224, 16585, 18106, 13601, 9118, 10054, 5893, 5147, 2630, 8058, 497, 3579, 546, 4237, 16498, 1639, 5537, 14047, 5435, 15154, 7290, 8200, 628, 15393, 6431, 829, 14983, 7015, 3044, 4079, 15728, 17366, 8848, 5854, 7667, 6904, 5285, 1481, 4837, 9987, 6661, 14211, 604, 7684, 5933, 2950, 4501, 10879, 16332], [17078, 6613, 16110, 8192, 2316, 13082, 13141, 1362, 12095, 4321, 7342, 17062, 848, 2203, 13867, 16398, 590, 2562, 9206, 4868, 4715, 10335, 4794, 13638, 9456, 12395, 9730, 16670, 15827, 5647, 9058, 9754, 12094, 12760, 5664, 16126, 17334, 6481, 6467, 9514, 16840, 4245, 5441, 8799, 16108, 6008, 5161, 12678, 17900, 4653, 15375, 7137, 979, 14545, 6030, 12561, 3439, 10895, 11534, 6520, 17876, 14388, 13648, 16077, 9329, 3840, 9116, 2136, 10684, 3516, 3432, 2650, 903, 7382, 6467, 11284, 14672, 2534, 13678, 597, 17676, 7541, 9030, 39, 14049, 15937, 2847, 15461, 4817, 11767, 17637, 4, 10174, 16298, 11964, 13634, 14135, 15263, 17637, 15013], [14851, 2874, 4335, 2857, 15236, 595, 8888, 15455, 17430, 2140, 14923, 2198, 15403, 3743, 11495, 12572, 17869, 4833, 4704, 16369, 2610, 10999, 9499, 4489, 9129, 9476, 14907, 12735, 5047, 14982, 18011, 9410, 8366, 7584, 220, 816, 12950, 7822, 11787, 6388, 12453, 16665, 8236, 1170, 17882, 5264, 5447, 6113, 15963, 13093, 540, 18252, 9881, 13020, 6147, 4281, 13555, 4841, 15213, 8762, 16881, 1878, 5020, 12290, 1219, 11146, 14079, 5456, 4636, 5363, 1092, 5714, 5889, 7382, 13182, 14093, 12063, 397, 16989, 1705, 11931, 8162, 8136, 14705, 8887, 9866, 9823, 8449, 7452, 6524, 8930, 1862, 4898, 9866, 17169, 13525, 11102, 5209, 14321, 2279], [3519, 10035, 15192, 77, 10762, 6447, 6557, 16595, 2841, 16410, 13910, 5308, 6312, 8648, 4801, 12894, 1081, 8371, 12666, 1584, 9324, 7283, 6823, 12589, 12494, 4314, 2079, 11035, 6413, 9706, 4207, 16541, 204, 464, 13406, 3225, 9813, 154, 2533, 18138, 10605, 8778, 8963, 3955, 5315, 8012, 15994, 2988, 14432, 4627, 3281, 13085, 16693, 9255, 12329, 6189, 5999, 6549, 13243, 7278, 15257, 10709, 16358, 5402, 7144, 6877, 13998, 7045, 5941, 8971, 12455, 7152, 1977, 10782, 9504, 15534, 10721, 2329, 6419, 15999, 7849, 592, 9255, 2965, 10792, 15307, 1879, 4649, 13454, 2580, 6992, 9957, 16156, 16260, 3714, 2916, 6867, 10413, 10757, 5256], [6043, 7781, 6985, 266, 475, 14679, 749, 17356, 14456, 6849, 872, 15301, 6866, 9961, 4889, 283, 6185, 704, 10133, 13572, 12387, 11109, 14882, 9300, 260, 9809, 2694, 16721, 1551, 12676, 16680, 13776, 5121, 2190, 16787, 16752, 3789, 6326, 15742, 2594, 15080, 4339, 8234, 9698, 1142, 4242, 3142, 5113, 10907, 1498, 7238, 7582, 13826, 232, 15068, 9300, 14676, 9140, 13526, 14741, 3192, 16461, 12925, 694, 6853, 9918, 14684, 15431, 16239, 1137, 17766, 2769, 18234, 13687, 8380, 4462, 266, 6246, 12519, 3605, 3768, 17310, 17680, 128, 12461, 6978, 7266, 8213, 11555, 14551, 6259, 12217, 5301, 6978, 1939, 17786, 14962, 9543, 6058, 7896], [8746, 15206, 15219, 12820, 12442, 7231, 4090, 12795, 18214, 15242, 4708, 12238, 51, 15057, 3741, 14469, 16669, 16311, 16338, 8112, 12423, 17519, 6053, 10703, 12219, 11569, 2620, 10007, 12396, 12676, 15111, 8391, 5128, 6802, 14497, 4499, 7120, 13587, 1316, 16303, 10733, 10206, 3709, 8299, 10320, 783, 3046, 10502, 10907, 10182, 2727, 13038, 2606, 3333, 14190, 15583, 5219, 11850, 5569, 13196, 4978, 2124, 12968, 9976, 1601, 9146, 2133, 4111, 9977, 1542, 5748, 17987, 16975, 13146, 6674, 10804, 6186, 17666, 16337, 16011, 10778, 5321, 10332, 12965, 8106, 6978, 7266, 9433, 1881, 12434, 7107, 9672, 10007, 6978, 14859, 14380, 17591, 11356, 16439, 4467]]\n"
     ]
    }
   ],
   "source": [
    "texts_signatures_func: Signature = Signature(matrix_one_hot_encoding, nbits=100)\n",
    "\n",
    "texts_signatures: list[list[int]] = []\n",
    "for text_one_hot_encoding in matrix_one_hot_encoding:\n",
    "    text_signature: list[int] = texts_signatures_func.create_hash(text_one_hot_encoding)\n",
    "    texts_signatures.append(text_signature)"
   ]
  },
  {
   "cell_type": "markdown",
   "metadata": {},
   "source": [
    "We can do the comparison of the signatures manually if we want. Nonetheless, looking at this manually for each text would be really difficult. This is where the Jaccard similarity can help to compute how similar texts are."
   ]
  },
  {
   "cell_type": "markdown",
   "metadata": {},
   "source": [
    "### CompareSignatures\n",
    "If we look "
   ]
  },
  {
   "cell_type": "code",
   "execution_count": null,
   "metadata": {},
   "outputs": [],
   "source": [
    "### TO CONTINUE ###\n",
    "\n",
    "def jaccard(x, y):\n",
    "    return len(x.intersection(y)) / len(x.union(y))\n",
    "\n",
    "jaccard(set(example_text_1_signature), set(example_text_2_signature)), jaccard(set(example_text_1), set(example_text_2))\n"
   ]
  },
  {
   "cell_type": "code",
   "execution_count": null,
   "metadata": {},
   "outputs": [
    {
     "ename": "NameError",
     "evalue": "name 'hashed_shingles_list' is not defined",
     "output_type": "error",
     "traceback": [
      "\u001b[0;31m---------------------------------------------------------------------------\u001b[0m",
      "\u001b[0;31mNameError\u001b[0m                                 Traceback (most recent call last)",
      "\u001b[1;32m/Users/enric/Developer/ID2222/hw1/homework1.ipynb Cell 24\u001b[0m line \u001b[0;36m4\n\u001b[1;32m     <a href='vscode-notebook-cell:/Users/enric/Developer/ID2222/hw1/homework1.ipynb#X31sZmlsZQ%3D%3D?line=37'>38</a>\u001b[0m minhashing \u001b[39m=\u001b[39m MinHashing(n\u001b[39m=\u001b[39m\u001b[39m100\u001b[39m, seed\u001b[39m=\u001b[39m\u001b[39m42\u001b[39m)  \u001b[39m# Set the desired length of the MinHash signature and a seed\u001b[39;00m\n\u001b[1;32m     <a href='vscode-notebook-cell:/Users/enric/Developer/ID2222/hw1/homework1.ipynb#X31sZmlsZQ%3D%3D?line=39'>40</a>\u001b[0m \u001b[39m# Example: Compute the MinHash signature for the hashed shingles of Text 1\u001b[39;00m\n\u001b[0;32m---> <a href='vscode-notebook-cell:/Users/enric/Developer/ID2222/hw1/homework1.ipynb#X31sZmlsZQ%3D%3D?line=40'>41</a>\u001b[0m hashed_shingles_text1 \u001b[39m=\u001b[39m \u001b[39mlist\u001b[39m(hashed_shingles_list[\u001b[39m0\u001b[39m])\n\u001b[1;32m     <a href='vscode-notebook-cell:/Users/enric/Developer/ID2222/hw1/homework1.ipynb#X31sZmlsZQ%3D%3D?line=41'>42</a>\u001b[0m minhash_signature_text1 \u001b[39m=\u001b[39m minhashing\u001b[39m.\u001b[39mcompute_minhash_signature(hashed_shingles_text1)\n\u001b[1;32m     <a href='vscode-notebook-cell:/Users/enric/Developer/ID2222/hw1/homework1.ipynb#X31sZmlsZQ%3D%3D?line=43'>44</a>\u001b[0m \u001b[39mprint\u001b[39m(\u001b[39mf\u001b[39m\u001b[39m\"\u001b[39m\u001b[39mMinHash signature for Text 1: \u001b[39m\u001b[39m{\u001b[39;00mminhash_signature_text1\u001b[39m}\u001b[39;00m\u001b[39m\"\u001b[39m)\n",
      "\u001b[0;31mNameError\u001b[0m: name 'hashed_shingles_list' is not defined"
     ]
    }
   ],
   "source": [
    "import numpy as np\n",
    "from typing import List\n",
    "\n",
    "def min_hash(A: List[int], hash_length: int = 100, seed: int = 0, generator: np.random.Generator = None) -> np.ndarray:\n",
    "    \"\"\"\n",
    "    The function takes as input the list of hashed shingling in a document and returns a vector representation of the\n",
    "    document hashed through min hashing.\n",
    "    :param A: the list of hashed shingling representing a document\n",
    "    :param hash_length: the length of the signature to be returned\n",
    "    :param seed: the seed used to generate the hash functions\n",
    "    :param generator: a pre-created random generator\n",
    "    :return: a vector representation of the document, with len=hash_len\n",
    "    \"\"\"\n",
    "    if generator is None:\n",
    "        generator = np.random.default_rng(seed=seed)\n",
    "\n",
    "    min_value = -2 ** 31\n",
    "    max_value = 2 ** 31 - 1\n",
    "\n",
    "    hash_parameters = generator.integers(low=min_value, high=max_value, size=(hash_length, 2), dtype=np.int64)\n",
    "\n",
    "    return np.array([\n",
    "        min(np.remainder(np.multiply(x, a) + b, max_value) for x in A)\n",
    "        for a, b in hash_parameters\n",
    "    ], dtype=np.int64)\n",
    "\n",
    "class MinHashing:\n",
    "    \n",
    "    def __init__(self, n: int, seed: int = 0):\n",
    "        self.n: int = n\n",
    "        self.seed: int = seed\n",
    "        self.generator: np.random.Generator = np.random.default_rng(seed=self.seed)\n",
    "    \n",
    "    def compute_minhash_signature(self, hashed_shingles: List[int]) -> np.ndarray:\n",
    "        return min_hash(hashed_shingles, hash_length=self.n, generator=self.generator)\n",
    "\n",
    "# Example usage:\n",
    "minhashing = MinHashing(n=100, seed=42)  # Set the desired length of the MinHash signature and a seed\n",
    "\n",
    "# Example: Compute the MinHash signature for the hashed shingles of Text 1\n",
    "hashed_shingles_text1 = list(hashed_shingles_list[0])\n",
    "minhash_signature_text1 = minhashing.compute_minhash_signature(hashed_shingles_text1)\n",
    "\n",
    "print(f\"MinHash signature for Text 1: {minhash_signature_text1}\")\n"
   ]
  },
  {
   "cell_type": "markdown",
   "metadata": {},
   "source": [
    "## CompareSets\n",
    "\n",
    "Before comparing the texts, we need to know how similar are the shingles of each text. To do this, we will use the Jaccard similarity. The Jaccard similarity is a measure of how similar two sets are. The higher the Jaccard index, the more similar the two sets are. The Jaccard index is defined as the size of the intersection divided by the size of the union of the sample sets."
   ]
  },
  {
   "cell_type": "markdown",
   "metadata": {},
   "source": [
    "For the jaccard similarity we will use the following formula:\n",
    "\n",
    "$$J(A,B) = \\frac{|A \\cap B|}{|A \\cup B|}$$\n",
    "\n",
    "In the following lines we will compute the Jaccard similarity of each pair of texts. We will store the results in a matrix so we can compare them later."
   ]
  },
  {
   "cell_type": "code",
   "execution_count": null,
   "metadata": {},
   "outputs": [],
   "source": [
    "class CompareSets():\n",
    "    \n",
    "    def jaccard_similarity(self, x: set, y: set) -> float:\n",
    "        \"\"\"\n",
    "        This method computes the Jaccard similarity of two sets.\n",
    "        \"\"\"\n",
    "        intersection_size: int = len(x.intersection(y))\n",
    "        union_size: int = len(x.union(y))\n",
    "        jaccard_similarity: float = intersection_size / union_size\n",
    "        return jaccard_similarity"
   ]
  },
  {
   "cell_type": "code",
   "execution_count": null,
   "metadata": {},
   "outputs": [
    {
     "name": "stdout",
     "output_type": "stream",
     "text": [
      "The Jaccard similarity of Text 1 and Text 2 is 0.01\n"
     ]
    }
   ],
   "source": [
    "compare_sets: CompareSets = CompareSets()\n",
    "\n",
    "# compute the Jaccard similarity of the hashed shingles for Text 1 and Text 2\n",
    "jaccard_similarity: float = compare_sets.jaccard_similarity(set(hashed_shingles_list[0]), set(hashed_shingles_list[1]))\n",
    "\n",
    "print(f\"The Jaccard similarity of Text 1 and Text 2 is {jaccard_similarity:.2f}\")"
   ]
  },
  {
   "cell_type": "markdown",
   "metadata": {},
   "source": [
    "## CompareSignatures\n"
   ]
  },
  {
   "cell_type": "code",
   "execution_count": null,
   "metadata": {},
   "outputs": [
    {
     "name": "stdout",
     "output_type": "stream",
     "text": [
      "Estimated similarity between Text 1 and Text 2: 0.00\n",
      "Hashed shingles for Text 1: {1760274617084862464, -2197375986492907519, -587441954832973823, 8743244729096470525, -4069586526347517944, 6331014978557845515, 5818091183956467727, 7050967123566649359, 3524886073462628372, -2784253521557356520, 6758801991898300440, -7498525360044376033, 4471223957186633757, -7515682048999178204, 7947297268579459107, 4077152595292020775, -3855745517656244182, -5391524090379059155, -8420847051959975888, -273830232932909009, 8512408720321855533, -4560292091898838990, 8556655781343600691, -7582834162104762307, 1380761621584920636, 3814778549835587643, -1397081132129877953, -4627549677990952894, -1330387972764630974, -6613339633290583993, 7121291870531600452, 4775043253244223561, 6263755175384375371, -6244408197613338539, 5728306877713776722, 7475708454762020947, -1373716053137514399, -858019315660906396, 4511259943006421092, -2931918184541716374, 518473348838072427, -8947425525905112977, 412706756010475631, 7336070064787218547, 9059961750653386876, -3697098823064043391, 3450541742237704321, -1734292709476581244, -5957723452286656376, -5052862831269461879, 6562768996942332037, -6150505358647377777, 1233153268184350864, -7307512544213294956, -475423369588154220, 1801122722896699540, -6566638070965755752, -3230000396798205801, 8486040160866746516, -8675574678770179939, 7169391128761917593, 5444210533571387559, -4312515373697867605, 4490694517163065514, -1737559297531314004, -8758137962868981584, 423098383690842285, 4403355677893714093, 6226231970584387758, 6307712399172108459, 1456005349318779058, 7850077052023111854, -6157363140764499785, -5766866595132809030, 3137883717563752639, 4152376097716699328, 2714838178039734465, 7455835349124858048, -4614035290955874106, -3131829961683492665, -4992228810577649459, 4845236841924608201, 1077051217993392334, 4361304889535594701, -8724797993068576555, 8337914864019136719, 9173456917203706063, -1994181290496712489, -6957037064742223650, -6283526339369991970, 660343267335626972, 2121808168472510687, -4734051721272565534, -2586685429406261011, -5859508547724582666, -4736818376915664642, -3075643218214092547, 5086820578009932029, -411401799551401723, 4734155283947069699, -5818279520382500599, 7525094059298488581, -3139847825037033206, -7978304589394067186, -6672671052206841583, 8320590710792421644, -6145382368957767405, 7737209471962652945, -6886768916838465255, 5932436750275977496, 8676999013448540440, -6227717401793208032, 1996048889864331552, -6053211561153830615, 8410657551068553509, 8487196197102321958, -543361949202620117, 3302013613323632939, -7271962972425862863, -6783621469631758027, -6983230644762205897, 1844460872669307190, 3209719576669741369, 8498913658776600888, 3363237321471287612, 7669766519049519423, 7054725546252067141, -3968132910267997876, -4318866135042580145, 7629458221969113423, -5803621552500833962, -8238230105251192487, -2921629900553469605, -6935023468063932066, -5519592951042358947, -3689859512612527779, -2125287391937273508, -8645588431404383902, -6412119233604107934, -5597461999981231773, -939869540417453732, 6697876803121979742, 6999205841191551320, 7156752927132778847, 1379893083902632298, -2968439571123969682, 3788211525667610988, -3238245018652180111, -7106635810459704971, 3864655574897344881, -7723978938502749828, -980837965207486084, -9006980553945939582, -4215602620079709823, -1852698087961575040, -7815961623265943163, -1073509144119926400, 3863879040984727935, -4610821144268922488, -512085121692130931, -5853546243232915055, -5107233603273604718, 1203389384654823823, 9170866520216011149, -979136617384115821, -7731077377279245929, 6410239873798521237, -2337611606458932839, 7871301908198875542, 1170396542415421851, -3704305504829161059, -5552986695413661281, -493850615086530147, -2398308598781066847, -7270275408454147672, -764749687224884827, -6583771250043010647, -5223745927220608599, 5780519616401785256, 5109499391517122986, -4176983822478818893, 3508165105277845939, -7633572141843226184, 2394744002295161270, -1513801676518039111, 4283339679350604218, 5233926993445855675, 347812924568166848, 3730452821763809729, -4063134349548117562, -4648306651452710455, 2305513760786940365, -8709456811296701997, -3647199309405265451, 6638826828843327959, -7075535596482469408, -5993779791731269152, 2511015407386362332, -8076684441090129437, -2187815490460622368, -6107377265770192409, 4915333177777840611, 6071921232829522403, -6232645824433667598, -4493181254157819405, -3593860027356634629, 4250836459762631163, -8146103567695240701, -5153357846708223486, -138775172648558078, 2989910410396459523, -8851654586258873847, 6840344358344917510, -1133360680558984695, 4767329599108490488, 3485237503014027786, 8032685712935436805, 1133206790114837005, 4550413655143113232, -3031567192997518828, -6058159627055193578, 4651307281048248849, -515550449926340073, 1232439444795941401, 2446487458197602843, -1607841642459807203, 3087347488631661083, 4489105623519584797, -4262290273903656411, -6668388014423612889, -6761883534428667350, -1163296133498617304, 1214567276299764267, -4999350881702657486, 3902650510144963124, 4284388491566211637, -8241445014330506686, -2045134337688444353, -1878021308809280959, 2907113208558338622, 6138085249471930943, 4975804059472609862, -2429205182455627190, -6391779270963502515, 6964277613971038792, -3374213778613812657, 2085585740164809302, 3667168588879553110, -6096834059501526438, 3116005244125848152, 4117367611469627989, 1324014259902538332, -6559141812186865051, -2530092162893487512, 2658522621590602343, -4566781422587362698, 6432675629538656885, -4937101292472966533, -7679002727631682940, 4134828270063985280, -6157298674862939515, 1857557671358964356, -4949891091618037112, 8084305947064902287, -6845298527053004129, -4818106970115751265, -4623034981947932000, 245341534725989028, -1326977495153687897, 3878551608146256550, -6830058541441293653, 5799841482918118054, -1502359197794401619, 2049318659161907885, 1267689205375812271, 2252252038041535150, -5354884634441932109, 4268342883321283245, -8864553238934142280, -8218561379163020616, 1506746976096936634, 5210763924693967545, 8515200599436534456, 4706459868869157563, 555834715074896578, 1529788880205595330, -5381964060181404986, 1541744451756270275, 2990221434674520771, 4033888548731691716, -2106512824609029432, 4069125255873782466, -6004060967894646068, 6644539675863229121, 7483232473164718789, 2752123004095144652, 7835099899186930372, 2435609667384525518, 3849975123249832654, 6997066569365439180, -2070038265681911086, 2774043192975475419, -3737502152803736863, -2540300459512716565, 3701391151368798954, -1261296612824579347, -3401832494884396303, -2196339174232808718, 1552802396335391474, 3765015947922408179, 8980710899979870960, 3572655393759585017, 9099181861033870073, -148044873844161794, 9005482631422419713, 2561462789931795204, -6817322482312666356, 2494683437188432650, -8534857214339292398, -7173581607342259438, 4850090980883170063, -932214387105455342, 7110744502174278413, -6009702343784865002, 3269512563505373971, -5058694470418062568, -5510810003343662311, 4453068889440666392, 9051771251202392859, 5712784542270014238, 6420391600712278818, -8258794383324568782, 9156521995789165356, -5715892739992861901, 7766444629874197294, 401018898972222262, 780462561172947767, -5485814778618305734, 3029985170405819192, 4067742663711761207, 5982849958433170231, 1342416740432921404, 557006447660614461, -237202171536915637, -4591110529008385201, -1297534547903225009, -1700190853683322030, -76234748411264173, 5696409864564212569, -5053389420633988253, 2886826854749455209, -5005404610077449362, -7147772181358541967, -1682029267864460433, 2356180555949138797, 129284493319922548, -4426100741519506569, -3482399178416946313, 1061422562350973816, -7005680876963069060, -7034726365292502145, -7737492123509939328, -2836100668315262083, -240389048815475843, -3236496615806532735, 3197955683014206334, 5593788536182825854, 6260421733040546692, 6488999373287441285, 1570729424939066249, 3311544319271125899, -1428723180314033267, 6471638307476251530, 3737261862710059920, -3401463760775167084, -5387946240953695337, -2034875295985646699, -6140021188662475879, 2478915116095660948, 3676490637358760854, 7102096092946596757, 8484620470913254300, -3528977190812466267, -4384032537654008917, 6357783155025028009, 4180200623319827373, -454785377595817040, 941948460764242869, -5166254467618544711, -6284040744894839874, 8186677697446667195, 8170055447195632572, 6571558857535685566, -4311270388588969022, -3933436404525374526, 3074451213807780808, -8142073251009920045, 5981596019245482959, 7049644189188809680, -4300436464941710379, 8548206582502376400, -8913041745824496677, 4185770905588704215, 7076594662082782166, 4320418938461373404, -1943377847146847265, 3490535551364727776, 4429580536270619618, -3716725649616256027, -5562268217785048089, 5338640634315916260, -2008205276606979095, 4002702560041763816, -7717519866810850318, -8573188752258112522, -2427721097177619467, -7392919747330964488, -4409196741860572170, 3137988751461893109, -7851258983966505989, -150202848705215493, -871813205245058049, -3066211216896629759, -6123979343396772861, -3978412182878829566, 3272787884082955266, 6230864303232287742, 6580672559071798275, -3270478207378422772, 8023715963898987531, 690151338137510927, 7375008140460917773, 7092754375479452692, 1567433099257963545, -5305267378568420321, -5840733117400824799, 5446006334392747037, 8481130144841171998, -8552924434101853146, 7260861288817091623, -817719354483858389, 657671059274613805, 776493195509457966, 3444264146413437997, -9105401042249038788, 1964836376974255166, 2053714128924738622, 3017140647668130878, -750791146215979965, 6720082177095853128, -5481593531314543539, -2006677105908456370, 9217862858291561548, -3558415513184426927, 3831849429024203860, -479060619136334760, 3815336230827730007, -7334731685692496798, -2322846816212958109, 7425855258910704738, 7899385354191823974, -5596980405726026644, -5110752874045807508, -6467367407720921998, -8106053822728641420, 2301909475915121780, 8268945031138722932, -8932941094040640387, 8251198780417721465, 1962851785872614526, -6023704782009883517, 3794229801629729924, 1903059841826546823, 3141650261392352391, 8485356125515957381, 1835580900616856718, -7806073588582800237, -175134407475845997, 7685513416339309713, 4271669821620176025, -4379821430679133026, 2376118540842189985, -7962241195243330393, 4422902125539566755, 7584891297375642786, 7391596308390257828, 418736488506721451, -911028169040878420, 5356535974491505834, 3186609936104121517, -3626487336851151695, 7430030307537609903, 7530341134575822001, 1929229806410302645, 7173768965842142388, 2494557630930453687, 8818894886096323764, -8504343302038395713, -5308531353454238527, 4970410604036056253, 7630609660006466748, -7927504728741264184, -6201132762982710072, 8225640894682653893, 2041014794297509067, -2451936165878348594, 7211328689212015818, -6623824241384938285, 4047833650759828688, 4419648598615360721, -8885307871804488486, -6104651311595780901, 585986750897472730, 1144780985581782234, -7707098251724978973, 1360302234095518945, -384860398717655838, 2300376612860404962, 6087867933911942368, 4114815021451535590, 6851879380982686951, 7080170534797935847, -5343474130036710160, -1724198554500094738, 8543246092622071022, 5862316944416892145, -130583154099501836, 9138273146803504369, -2633169550228855558, -1381069041975212806, 2575499475537347832, 2252976552453309692, 2598760697373140217, 4380360405310555384, -2492739869546355456, 1946622094700881151, 880959989895701761, -2454903001647307517, -2769436493406378748, -5773149523953580783, -4215383287604370160, 1217424071524828435, -8483013368684305128, 5287377125542241555, -222229164196911849, -3445784926422440678, -2316818679645633243, -5302681995152505556, 1629270615333258539, 2770257914960233772, 8707235918581286188, 3295250695658964273, -1770398792893627083, -6928007362616720064, -2963757151106693826, 8281421174540666171, 4383179732831552832, -2515747298920626873, 7694897207675168069, 2892131642687726920, -7390761570246220467, 7385354667565974855, 6463675061613831500, -9129737531464145580, 3415475997998294355, 1364327608821605717, -803179767678491301, -750098194241690274, -102235820470368930, -4721800824379021976, -4963847614059182733, -8856633873191910026, -44253189584689804, 2065722687987213684, 6936598243359450480, -6755445280679631494, -8635808690352937604, -328100162505407109, 2100950793988523388, 4651654733485933948, 8550850103360267645, 7879432052019176831, 4208137838243661186, 7018345922532705665, 5625607976010179979, -6695013516444768878, -2433991738756782703, -7957930994433768041, -8296942954830453352, 5930748321267131796, -8390997733720717925, -2685074378295827046, 6066533234939536798, -20049705478462044, -727201349223914075, 8496141806079706535, 1307766378073933229, 615797486432806320, 6461988233097323951, -7539936760764299847, -6526034210619439685, 5691274489769084345, -1770591924574231108, -1837409087266708029, 1450178785667163588, 4963431345443612099, -5127300403803298359, -3387388874471373366, 2606011947027834314, -8301566769683864110, -5957754405841869358, -8853834723823696427, 2507404555347437010, -4345227589263456808, -4482239055596870182, -2152907182853036583, 5798075143612818903, 7029846836484957656, -1323069389679688225, -2624505337782860318, -3375913500367444509, 4610630658391344612, -5641100406956505624, -4084631422112963097, 3149990444573853159, 7606182210304566767, 8882263068057847285, -5591454637507213829, -4684002736993040900, 74022914181219836, 1962327273844557317, 5638680048288572931, 344464161868039688, -2558810908964919797, 5683286760916256264, 8894387074270209548, 307482444949792273, -7539697116114803179, 2610586173217113619, 1761671865676498460, -2040894175765346785, -1065897832730663392, 4317689056102311456, 2657773098898212389, 2943444970099303977, -985530208480696775, 8857941119153800758, -8775034485292784063, -8214523330392725946, 5497016314142697027, 7576659042347591237, -1806235346429073846, 6980746248381957705, 496012437854701133, 8782108621973513804, -890431473081989549, 8783785607036438097, 7560954372811490902, -2206514446704318882, -4049617127613643168, -2496035281584683422, -6102770174148729239, 3165050626903393895, -912640979290782103, 494438992955590254, -2157887774876408198, -200476271975348613, 6637700591604352638, -2826199224027609465, -5937309878678452599, 3927231408628639366, -7973357594135853426, -6866170438254016880, -6881136375731886447, 475672458239903378, 1587789141561386642, -8866326700570089832, -6837327808897481064, -2744992114378873192, 5825737459737577107, -7606850955134990692, -228511816252520802, -5190828921763871071, -2377369736563259743, -1341871793222310241, 1413968558650295968, -7413204112849828185, -6018447034710120793, -929644700958742875, 3020174709801469605, 5965713886771857066, 6611587266465711788, -2904758848949860687, 6383871802420299439, 2315338219546166962, -4904011883195529546, 6997553227267327673, 3007613970157381313, -4443597378956089658, 6037750133043930820, -2950815330971179319, 4076466745562949324, -1642530969892174129, 380818796155995857, 2703667806847796947, -7183427516295821607, -3814922307144751401, 2984667123372484310, 2714286725697054425, -4927660803228080417, 3472619522285135582, -6279044325088287003, -3777546332677069082, 3417692030300636902, 3150444468737599220, 6836700063718409976, -3762829468008323332, -2287698534711482629, -2420097946597030142, 4310761211949139717, 6211367148348409606, -8340842378366359793, -4104160497063745777, 1327461859964241678, 1995828537148974862, 5632657138817263372, 6571259148860286736, -8854449393492408554, -259882312959678701, -1412956730240588011, -2814411681578875113, -2175217368221743337, 2928102942210344725, 8342694065904609038, 5750111410527594266, -2538756944312252640, -3800331059397515483, -4087618202669947095, -5412956020891793621, -7156196250138015954, 1637605392113485615, -7374348433955813581, -3557421322821540040, -3974926423419558087, 4724324823303980854, -6976164967625488576, 979400402396161855, -1481769948486883513, -389650972497402026, 3165342696777672535, 3743975324721055577, -4766986453371934883, -3372230832178280612, -8227987465237862558, 1673036991862941535, 888587302435530593, -8631252773447153819, 1991494382922286954, 5462920301283100521, 2367359592626268011, 1900596426202572658, 6435349167017338736, 3360493754158655350, -2226599928407095432, -2403325289213229189, 5676174447857461113, 2546590063570642816, -2962579500800522359, 1923623646947993483, -4705570494642190450, 3544444134070486924, 4482380828894168970, -650207465959553136, -3502785082276321390, -7208338224590231656, 8377498185611806615, 367776716229478299, -4203657766923737187, 3141689132537972637, 7170337556691011485, 100747181585926050, -8932167775690979417, -6742634418085320792, -4225245765205399640, -8234271988688181333, -5333967142710540367, -1177742963741087824, 2864069857112491952, -1356742397344651341, 6342906588164573105, -3694924818281519177, -4150443412355504200, 2466888152945420214, -5655473888072267845, 6775483244814321592, 7599822844516640698, 8016194935074277307, -1072026730173782081, 6584367283582642111, 4591481606733195209, -5134612752826062896, -3930946187216828464, 5246722367266940876, 6181455743697921997, -7248645630306031659, -1088069306687674413, 4651836449584007124, 2074791762577852375, -5820625684568684582, 16407809708738521, 6452373058191075284, -9183342630358980641, -4522505511591278627, -9131208475139012637, 8018340228667107293, 7233595357850699744, -4802787668540889114, 5369339979377412066, -3636580834940663828, -711779548590446611, 6684162134152087531, 9074964974592215022, -4768938781512980489, 4428447141712914424, 353274669954885627, 3599721343069677563, 3113181716812490755, -3557021032586434554, 8402883460643612673, -2179191463769978867, -1852240868539168752, 2875982969426249749, 2433090496794855446, 3065109319808018456, -8738985052474488800, -3405856869845448674, 2946743438767786015, -5054568378539947997, -3257917565021140957, 3307451041305364517, 2344961195210827818, -4591972226398451666, -483156041140508626, 6982561462336456746, -4058350076935256015, -7957733610401617868, -6064938439499003848, -4156660417933563849, 7729756219017824308, -2812323512246884294, -4481722485139404737, 3140970584486037571, 8225733209593145412, 5149252767214536777, 6829265503547082830, 2966977446750677073, -5428385078933575589, 1065854499098855514, -8495302103561901986, 8406668770913970264, -3685016000293828513, 7468379383083075677, 7149954711480002654, 7062325077218486367, 415060036418480227, -7726135862613243801, -7644352780774061972, 2886600143436212331, 8455419671888504937, 4801975178332579948, -6686806520436742028, -7554405349465405314, -3902096471927732098, -3493972050348578686, -5059227876952430454, 2806890722426554503, -59086163525875573, 1709976364821383310, 2158158003875907727, -6760763636080703324, 540248538681854115, -3460355262936299355, 2764209512629274790, -8969026713993328469, -4235326777579181902, -6354099163009603403, -1578172760142698313, -3642817697294866247, 5904238507178117305, 2452718203077183678, 230274665020565696, 3868958510186203332, 6020149353927051462, -2428146900574672689, 481377808538536142, -3651786859120457515, 2152734063562229978, -34144386736748325, -8723636297665050399, 4572219632281315549, -5751508923985753886, -5505018480009369374, 274723118965819619, -1591865811443111708, -4655809319028504344, -8469304603407677206, 6940019799045744869, 6552463257313822951, 1187838217938102509, -5488623187772413711, 365913136101771503, 2928852495093123312, -971696253303928589, 3446541118397212916, -5646376131417675528, -4582840390282999558, -2618878131663525637, 8298476689019881719, -6331918375264524034, -4489729577713227523, 2469441498305612028, -2426279393549620991, -4343650029445535485, -960894119634056957, 5841344478801914133, 7406935938861107477, -3081019604950529765, -2205161186626156261, 571272411861051677, -7548206733569545948, -191340920019556059, 7607018380624685349, -7689690799070729938, -7103954363549865682, -5508764582260291280, -8608583854861850315, 3078289642536864050, 6791215017559017780, 4391826205605390646, -7490442359304263360, -6910580238884279998, 6172325469357402431, -6548149701678896824, -8245455461627803317, -3356859793554896566, 2135040386476181832, 4416842708622436685, -6876648151146591919, 364069910662809937, -6097581893613516456, -6575525288966878886, 7932856389835598168, -5998323106397107874, -506969814615881372, 4165384723500697957, -3006473070427338391, 733889572056246634, 6300526460178950511, 7188434107380009331, -4617946594633086599, -190333139572995719, -5174415868286842500, -7416276992074929792, -1651805399237195393, -4179963483718973055, 700075178170222978, -6537186234271250039, 2137830878654802312, 1645694434895817097, -7626642553354081902, 7594772102188755344, -5326768768352745066, 6655773443492186516, 2805177970640824727, 1367193094414485919, -5937473391319422550, -3319787784836535892, -4614679513443890767, -6710594639458670157, -6151464376049923659, 6591223346495941042, -8013859515436693064, -7862860644845041222, -2519177951543785029, -8329229873901770306, -7512896224407696962, -4504039104316536381, -3230622073589806652, -2768654057967834683, -8640207646926853683, -1084904792630408757, -993099336586327605, 8307915441999186379, 3012952484967647695, -3437338434448094766, -6861132903031461420, -4695612325188482603, -4064976417871844907, 3231695999287618001, 3047104705254246879, 1810671403135044068, -8714892455555487253, 8461221976736385514, 2280463839453276654, 7291702459671120365, 1509938366172916210, -5276112128412390922, 6891691726520502777, 927395768791845373, -8979347712220403194, -4412077269468894715, 7483847794751539715, 8404739263349246471, 3777943600345401866, -4682864679548671472, -5657190210025616879, 3052582380965636624, 2030281622814181906, 5476934031257004561, 6389545833857927696, 4551691779848309270, -8749469235171694053, -7338586246365124063, 5461060389361412636, 3652780246612314655, 8394342185385527838, -474936158486107614, 3245921079531383329, -1685447852290856407, -7504084344155567565, 2999013072171330097, -7453579477024052679, 443332836167649847, 7862187383713286709, -1194409776886797765, 2927802354916264506, -6182474172664862145, 7616625038946232890, -6675999946147476924, -5926887366362117562, -4793117367535932856, -7492732127452542386, -1902027433532462516, 8532075566428023374, 4086862789788174930, -4659261554672907690, 714032146786970197, -1027995969911141796, 2461486886546500188, 3051508717362367068, -5696618294546666911, 3324688629641701981, -8949525599595459996, 5151691642302089820, -2389884091011839388, -3502170618466497944, 8675175015767026278, 736436697163655786, 5042045486188595817, 5082890902741838440, 5518737792210225769, -9088850088696599948, -7057245935006102919, 6956609657021508213, 7880521897013987957, -3994230358133183875, -3556983624001279363, 7137634820472932985, -7256796284123927932, 1147607143252511361, 5819829111329794693, -2635032144641447287, -1874817895212537205, 4100270702247004812, 3047231205906336399, -8887870822338737516, 1302132182252841620, 1043367860211034773, 9066849319456238227, 2119412955077888665, -4714636074560910692, -737981515700057445, 4880800396664949403, -2417139927598110047, 3468728520641252000, 2244654960244853419, 8560189551159200431, -5836726370362848584, 2706135629504793269, 2983370972306426550, -8431542051708499265, -6430991706615600446, 5606196479498119872, -4946088586295407931, 842974004152470223, 8000540910621723342, -5091351096859727142, -1407267907731666212, -2279304885497623842, -7164878627414947102, 629455160806247136, 7979597023945345760, 2891133809524755171, 2635499576427055844, -7163193715261854999, -4652100994282796311, -1823533947020268825, 378176952809925351, 3906751233468656357, -5498703572810847504, -2671463441661187344, -7762293833144997131, -4919065060849161482, 8453390341952277233, 5180434073316698870, -283991400082486533, 7920209172491184888, 3341768467662891772, 5647483957314923260, 8341364762305899256, 699400548930882304, 4795816396088478468, -8052685544374932726, -5438971865768285431, -1826037152929936629, 8474801266333887241, 5278605395333704460, -639928099956208881, 2029709428945365776, -1795213383271036143, 2728965309307570961, 2961322023766756116, 3779582551734151957, 2670522835002477334, -6504771646288491746, -4033199151333954787, 359831638142389025, -4647369889546745046, -2868294499193132245, 188067946149956410, -62146035391583423, -1813348020147991740, -5111671281923290294, -5906331235965375669, 4794466628421561162, -6000732555698435248, -925974523484427439, 7979257654570175311, 3013391785681488722, 9208953386668075854, 8991891170897873757, 7138525943337921375, -5412478922013717659, 7611107591925599081, -128208861211907219, -420340557337826441, 3306667311872330622, 7695071659833445246, 2686725108164127618, -2060660763611231354, 701930727767133065, 5798001473457318791, 6146729141408402315, 1625361560295394197, 7367982569481718676, -8487215186930308193, 4338828169462205340, 9039579752214154141, 3709259769641192356, -1769387893460210777, -4495694159572907093, 2406914149078469548, -8063524182554309709, -4804788332353680461, 6663268853131332529, -6778166556866499657, 9054735527120128946, -6606690603493995590, 1413913712247417787, 4288205928415546298, 6695032531187313595, 4550353720454728639, -3062005149608277053, 3381546025774205889, 8111448429442927552, 4234536769052478406, -4810521979920708662, -6079524960882988085, -5923037717394912309, 8044199533358533572, 807498963799444429, -7151071725974369321, 468065792144813019, 7476884614613732314, -4461580746190287903, -257077110781309981, 4914891263146527713, -2874490989427487767, 8008955656911989734, -1191258791568831508, -1640004721381938194, -3830743280688051213, -965751057916900366, 2914496419478539250, 4875504570305997810, 8071220586864356339, -4748884622463169542, 6315145168750873591, 6780042201427143670, 414579369558993917, 4338008345385946111, -1973254668608992255, 1036381663103388673, 5353459764550183937, 8473978688572509185, 1849178012615404554, -7682683733876241394, 9021900026483444743, -617438412518831089, -1743766781840511980, 2457543939972615193, -4700302196513059811, -3026998584444785635, 792174790754470939, -8791950244668732383, 3034266615427566621, -3024955212732240862, -2748687769471325150, -143109195618300894, 4233700540813823013, 8186480092108966948, 4333212862093626408, -2683743626349548501, 1905666937668144176, 5942746619429071919, 1393900480653110325, 5522254385902324787, 6706834227555879989, 4166873430180916281, 7675480691923029057, 7523964829526297668, 7711564505621441606, -8690922613492552627, 1832839776119909450, -1961106067488175024, 2486226718863117391, 9157795484444306511, -8855369768513098666, -988386420414804906, -8676451332139152291, 4432543625792646233, -7406781173338567585, 1996874283007413343, -3080680273135539101, 6379603328941132896, 9043548207757667424, 7559492417931455587, 8878495383000968292, 8972116252201061481, -4737218620425016191, -4949978204649247606, 902341325068676232, 6909269228212006024, -773629204519965555, 5677113242489449616, -5226634938948940651, -2848199636182643562, 3351019457819724948, 5789865946575318164, 5579470723585174678, -7307948221307097956, -3032786045860303718, -1880690212023325542, 9018676399005142169, -7676093821588624222, -5496295652010431324, -6398810905934451547, 3568751933133122724, 2447524917044620457, -8978444068492702537, 5479187035088759989, 3522055316259933372, -9212514751376339775, -649510685977260865, 1430867190961196229, 7786751655856860354, -413274105142383417, 5711106338679655626, -1189200043533087539, -8293890863482966831, 2437662289923345614, -1300531833816355632, -2198683621347922735, -8112343325990146859, -1908046476468376367, 2655997396335619277, 1438870448458853595, -1118106253707039519, 9105113977900076257, 30867841928121573, 4541944198194498789, -6813856508151796502, 4107394675229273324, -2853435787711763217, -8663415360201306894, 315045360428764399, -6362601614181135116, -3816021957930734348, 3006247054995721457, 4237479987878366449, -4646714694357398278, -3267375575176475399, 2068704601394253050, -3826028225712165634, 3284147245389319420, -741798079741760257, 1569011946615622912, 3915237767552019708, 6077935591428238592, 8725903488054881534, -2111958302863725308, 5238820621179219203, 4040853051100572940, 2054014539698040078, 4848227896261045517, -1820055281007538926, 1789404431055392024, -2420960971677389542, 1977492120752155934, 3067323944658808095, -7012026586661728985, -722691036369621715, -7016787691498214092, -5258870564241732299, -8953356441425154761, 6338337961565662513, -6667503271252202184, -631830600031072961, -5411036075187466937, -5777302352637309622, -7721514461561819825, -7804292995005919920, -8836283740758487727, -1953391247208805043, -1389216442194064048, 129922492906687822, -1482392824612729517, 599183476958834003, 8302174734196895060, -8247592923780543134, 6089053590229060958, -4150917320244892312, 926629948431699311, 49105791454915955, -1335957533779022473, 5642265381810965877, -72958300453810818, -7898533921653969533, 795536212318088578, 7387312409067859329, 263946613702430085, 1750621958341627275, 8670747686770355593, -1805244347315917425, -747774979222762093, 7171521009413729681, 3261264128564030868, -1837240408851739240, 26285044671737241, 1177676047650745752, -2792615401953358434, 9212870113263562140, 5015765038852181408, 3442411286998330786, -4774595211049513560, -2578554761042621014, 1035620585656167856, -8071917072619688524, 2277199375771069872, 2750254376567795149, 1160377553810304467, -2121718907673907753, -2196540478085542434, 3156113423100693982, 5268557214719127014, -8574437072364368400, 6644164949098368491, -8128327742598156813, -7975203001181450764, -2700047973486400013, 456494771031518707, 6971545607232433646, 3265499774052445684, 6449326616807640565, 7615743361996033525, 1130889773541289477, -1343531594008105466, -8957913168780538358, 612726081481100814, 5697988937788870156, 6229293346900823572, 8606258294903926296, -3795876518114161122, -5435135642829017565, 1397875999230438946, -2172971360295408093, -7270916854745010648, -5820417004046815705, -1436340571534610905, 3720418325647961639, -8571826343525568978, 7014510973536259626, -3997142863093723600, -2413852393616052686, -4787908357167247820, -1995420626782949836, 3466265771348364854, 2717573403126828600, -3353298557957050818, -3264447640366272962, 3826905040354094652, -5082206676503146940, 1006354393256242754, -8568974985453998517, -290524611654758840, -2925786185037050293, 5351186952310083144, -1520317257846804915, 7656252742212922958, -3811735236729237932, 4845706258046389841, 7575208863567875665, -8082436373646954914, 5950944456119864921, 7847339596763557464, 4314068144483004001, -5223585143839691160, 5650595323101752932, -6166413274976555414, -6696726006549590420, -4217024121925775763, 7835467383591390828, -441461731818156432, -8554292919397183884, -8041451163960938892, 5732909769195089530, -2779279870729703805, -82347519200588156, -8547452912197702005, 3924084613454859912, 7826984209328328325, -5584304943616651635, -6569856719358767473, 6422069405098577550, 2470064597915586198, -6682171882671763813, 5659717322645704349, 8971294033555467933, 7192365472909577886, 4693790478381125281, -6923168352637595993, -219789984799650138, 6329485142670356132, 3307030612801466023, -5230822989559345493, 79209556734938794, -3185245172388770129, 8463976993747521195, 7705480634454970033, 7582259410433191607, 4916472779350527674, -233670949938819383, -6585537921142673716, 7860761769296604870, -3981098857967161648, 2130712948094414543, 3352654901409599185, 7923510869295107795, 8273305211594297043, -3445121361598189861, -5914080491084747043, 3329999092677086937, 5562557283065466590, -5865082582527963419, -814194969576870173, 4829248174786416353, 2048200318348021479, 734636302489013996, -7134108302341353737, 1021515004577033972, -7647187636208308485, 7364284380323368695, -6010803031335235838, 516766875512418048, 3000003358626713347, 7723549537950347010, -3726148812556218616, -3270872558664577272, 4103768479961026310, 8994630850765360900, -4926795277703188723, -6544584668335550704, 8475053667177246481, 5255447116890476307, -9088746018125664485, -3314420658221871335, 1527493910340603680, -7598348309663469786, 618653962126806819, 4196719556312362795, -8398750594445160656, 6449826884516630316, 7508695463411109678, -6686402320664850636, 3642470874601090869, 4845806051045576500, -4617113860115665092, -3774200883008442564, 349913388697399106, 1417449875054686020, -5067181645278441656, 765384690206527307, 2984019594115362635, 7154721204305366858, -3026851905012314283, 6026007278487621458, 7765562460142702417, 841253786311561048, -7145486939648151715, 5790133735338757981, 3435196131720728415, 9084810781821669212, 455501484130602850, -6468057055579975834, 29759959981018983, -1321823496739737751, 610058919173771116, 3780494649765826412, 8652133886448422762, -2337638155436748944, -1160392467426766992, 3693203145744502638, -7898951475959050374, 9025036402644111222, 5177323288600203130, -3949839226355576960, -4051927414635647102, 7898973659389931393, -6246600876368867448, 5867653949652340623, -8319739598951501929, 1762932870360141717, 4079624166431289237, -1196820407987351656, 4097350381953822617, 239216947801640859, -2199364632016679012, 6814108438344232861, -5344449977132650589, 9090451781333389216, -4878009670607999066, -1470754535876218968, 2013498054317289385, 7557682872878993322, -2335018591673602127, -6522484389997965389, 1749189661424127928, 8038149596978982838, -419329948849958981, -3586363525795369027, 231605464253263805, 7187333937018425277, 5552805252730499011, 8080412973220450246, 4470275377622618057, 4450555406044139468, 6105892471861702605, -8285375465063616557, -6787905842695245870, -2066256657449701421, -7848562783775158306, -2827680697806032932, -335185299285921829, 1731719553194725340, 2302236446419636193, 4751968211311087585, 5996565954217005026, 942130663386763237, -1546793457134915607, -2729670938491858963, 3380913899261087723, 6987510983385714669, -4687928022393827341, -8399619282874945547, -2939457156345614348, -9175370711648055302, -4567309994009202693, -756362213073547269, 4273847251218796541, 1839937487358160895, 11679856240226306, 8279847499763372031, -8603900444764704760, 2095502474141519880, -5205554761826086901, -6591460935573884913, 7382627428976103444, 7819172702102376468, 4288309456327200792, -7072427375613423587, -2133365600914304997, -1996532958214811620, -5975123003438026721, 5553361482895978523, 2689189606730960927, -5258345368629571549, 1267460189950095396, -7470581371978551256, 2887848526984564771, 4539046490873155623, -5114425073180241873, -1064942245239943120, -3831047288873283533, 5178314672607154226, 6663969435511574578, 4776741929357619257, 7929007486713114681, -8419418512709930943, -4636136651256336319, 7140716267427254333, 9055252325895852091, -2574583188988080055, 6067543807102734409, 1353368548681666636, 3175089231313006667, -1884941580357857202, 3252061802609545294, 7459076251882926152, -2598619304302686125, 745318918541291603, -7076955226781773737, 4508226655782604881, 747415710456098902, 5106466236894072912, -264466531782602664, 4298070626387857495, 2759496162551672921, -8629263293818826658, 937879087550156891, -2387277473104367522, -4977210487461212064, 3562275245279408221, 6892282417722413148, -2047943665391382431, 8701977025891971159, -3427447316128231321, -1055777935484915608, 6878261618455097449, -4226230129454731153, -1191798582557667217, -1219399269584342923, 5731011055318159477, -8344193789894700932, -7661602567623839620, -6386148836072853379, -5515989769402298242, 1583419373974425721, 9161979516977434745, -3111618625549315966, 5626235152354193535, 8316181873962700929, -7582802376079306616, 7615618826484437123, 5057984985253638281, -3401871023727177587, 6484674528439103628, -1582157437118992240, -8492415742799310700, -793736052848619373, 423018364947640467, 3108820536503070866, -8392457275470147431, 8006090290339221651, 2567372187531374743, -1006810727200821092, 5778891835298779302, -3214871236911533903, -9002691539258298188, -5452179509167755083, -968632919464513356, 3509070990668386483, -8425806928605220675, 6699725433621868731, 6450911606307492028, -2911417211451928384, 3979395204096233664, -6302733005381832507, -2040317010647985980, -6178206915268931382, -2432090978830634802, 1570766184891404496, -5336555342269140779, -4347726353487605545, -5684646373369974567, 8874886367763329236, -3310068987673775910, 2581668549296394456, -1824562574053166885, 3644229771707068635, -353857439185497889, 7167584551400550621, -7189395977566441241, 8761186446133154022, -1939029232026062614, -4470088404260245265, 6658125974762680560, -3665856930761355017, -417386091521421063, 48972242817298682, 4725088843231391993, -5094050884543344386, -2095572313999789828, 5961547454684778744, -9180135884561149694, -6441005074632371965, -1315815771985743615, -7764593171926290157, 6116802619376390415, -5428273397077749483, -6936930185524940521, -587713855967702759, -134408975060422374, -2465848370377207524, 4946661613794529562, -2710952724687924962, 8103264627135967511, -3017987055915454175, 1256942696688939296, -6344164826575032028, -4552673952470519513, 7705390221928804645, -8622273677444927182, 5844486561062392113, -6186166683759029960, -4386274518415019721, 8544065705220673847, -7573178197875338946, 29679210914910523, 1320514428887748924, 2518011222839955772, 3299980315862225212, -9140635402065522365, 8780753107743740223, 1713793636016787783, 6060748316099072330, 1060065406635577680, -7609023901968166572, 4127809977644183890, -4603832767758552746, -5912924917466738343, -4344790467666120357, 7211798856234299735, 8947225738174222679, 3031644427680903521, -3084518539840466588, -3401584137959706267, -145039257223761564, -5620873788824358550, -4990946478815825548, -6976847042734632581, 6335537017903436152, 5011605441237430654, 8936996598950916482, -1753076174269533816, -242666342477041265, -1979509570630119024, -2533209394661559913, -7337352374899797593, -788526382605151836, 2482438463067296166, 8648775295578067370, 2759582787474403757, 9180968435026719147, -4108152311811141199, 4876412221646336432, 8179358753937355189, -3537535268786597445, 968486613008544187, 1709459125216612799, 2758465948288053696, 4205790284241727938, 6712492200232178118, 6227956661750329806, -3892521616485043757, 8600570004337324497, 6209930384382202325, -3143927217657966118, 2994528125045952984, 144446628467675611, -3097216308991266339, -4539514471358336540, 8103404513468404193, 5788991104604828131, 6763036074514125286, -4163292899448155669, -3225908226611105301, 6780954092450042345, -8787333891375279632, -7910072997956251152, 6952384439115026922, -8310295339475201545, 6725228378539487732, 4109357765615260151, -1237117172896263687, 3596124181006217722, 7941681281213846010, -7173548848179932669, -7055454054549081596, -8334067508303343096, -1304015601541549559, 3398268890870985227, -5002342265378721261, 6842698370160874001, 7352568078229525008, 7337510935431852566, 1939949987464860191, 5664344314534924832, 6698164959131456035, -3403711952085061081, 7152823897486619170, 7441344039015019045, -4582982059838246356, 97148958157820461, 6533134706891010605, -9169101728732376525, -2977157982685056462, -7205078153023475146, 5986479797211107890, -7047021352512400835, -8432897226278432190, -5458555586763214270, 7483288077678441021, 797891920337916490, -6948931545784044977, 3087076826896200269, 6289329836967490125, -3693908107380043180, 3094411051596288595, 4928456290858406482, 9017095971402830417, 1227416884526674519, -3452851379822767527, -3250265231970463141, -4230203884857658788, 6887894222762881625, -2646782961727851938, -2888203297838747041, -1915235569379593633, -3978918417705913758, -2096890780706835871, -7802125580473462167, -7301865018389024148, -2135952273491119509, 1444148166208606827, 4992573372014957165, -6489127690642910605, 151407386573746804, 3890382112772543092, 4146019431568265843, 7382662088940286586, 4712377418632614524, 4538150800418099840, 6042973998490030719, 6909570625125692038, 6154018738860937864, -62766059094887785, 8235419812951216797, -3099012827444432217, -3547711498018532696, 6280755265514361509, 4681249814824637101, -8083884356099476807, 2094296898732790454, 3543492507272975033, 4396405216501035705, 3693556592498815678, 3652744651560882881, 2414212400237105864, 601773033505362634, 5544223963594896072, 6851450219351184072, 5562041029629072075, -5618776895515086128, 6221176902409302737, 1177415006435693271, -7951511767384239393, 4286882605079687899, 8024026447784628953, -8090487196095294749, -1546275693725699358, 4424566971357631203, 2862453156234883812, 3016729038021120743, 6870597926453048039, 6878293320763831019, -5636887512155598088, 7755251260240253683, -6655214877741845765, 8063281311357899510, -4526649179605675266, -3465337594610765057, -4600496724960095488, -5490414711597534462, -2855841535011777790, -364871858735099138, 77006563049435902, 1472984650259575556, -3524533612556004588, -9153076688877219038, -6802533368062946526, -8331358807524043996, -3453646203021429983, 2152769771303736100, 6754084122402198307, -3905853912164043989, 6061255882884354858, 720907388284269363, 2513622938731574066, -1113909606152506571, 1248926773891314489, -4863196349072280770, 2344160240441176892, 2952765093443425084, -2334303143807102138, -5698085846391958712, -4153988729570823347, -2684352197559807155, 4883004147884135246, -3778143377178643628, 4117298853403267927, -694983069344173221, 5130595250386072409, -8724988405773667488, 6595774448601092955, 7245317886975734620, -2385914467121204379, -3147372099536604313, -961088612217580696, -838301945625316504, 8019867094784332649, 890104337216025453, -5209571339211959434, -2806547148777991307, 7320838552806232947, 6110988221501305717, -2074908363361946754, -9128631288128285821, -6241462653195840638, -923558921693695104, 8523960570030756734, -3306132903734684794, -7242593536290950260, -2677279026766621812, 5986957178782028683, 8251738334477734795, -6577616526037978221, -7448294441817427050, 5274563219909079953, 1332971045847348118, 4958029935213327253, 826022446725051289, 7942742072024437654, 3914182903485985693, 6031577174686954399, 8329884245680329636, 7715099577318437797, 6887198048131527595, -7945040602845285455, 5276712364206175151, -5107771546763938892, 8665865085743543218, -2778304756216966217, 3015506931064722360, 2588078333606581180, -9010699087805287486, 680328485608649669, 2690028436916736964, 8409293733849740227, 6910621013386171340, 1073193125036995535, -2193144989067578416, 395622837875913680, 4964559998619096025, -2544582892621122592, -1240622680189258785, 4148527383602041825, 4476152459590251489, 4182343109390488550, 9144789068662821860, 9175223642199290855, -8451383679193394187, -2402007523667512332, 5182757949655946227, -8380604464583199746, 7105417788715553784, 8339397701488579576, -2439080894140615679, 535419540983157762, 219955811406042116, 6900900921024508931, 8502605566236382212, 7066080305214403593, 690194870700110861, -6111873405002640365, -7712063273685953513, 2922612996402689047, -7850555214570212320, -5743263476536232929, 7503219103820051482, -1210106720563604447, 2417702716615693344, -7536642273649699796, 7939339375486620717, 8416999875993588783, 146740655604020278, -561227146556140482, 6502063381184664639, -8395945014364572602, -5572264990725852091, 6505096819678745666, 8964803919131423810, -2957072372433259445, -6362746415681260466, -2984624402932902833, -3519728730928466864, -5431226470646696877, 6177796090621408335, -6335773979828800421, 194115749597361241, 1510669470278284378, 2517443333790766170, 87859372815453, 4073122345198711900, 5121645324521075806, 1856548060947453036, -1698510841206926226, 3293430117093348461, 5725238201704141936, 7872997805568103536, -6094145794017274761, -4133729461567466377, 1480855919241090165, 1909840837804979317, 7622187282910901369, 7335057483393528954, -1638841959075097474, -459747624217324418, -5329510921235565437, -3447093923656166269, -4946442951960095611, -4358101041479084922, -6152396030610770807, -113923543003556726, -564642638407068532, 567581006342796428, -3694338111436991340, -4071724716279737194, 1313946501336110230, 5412836107448931476, -6799759032999177061, -4646446184935582559, 3971831653978870942, -4367404714853124958, 1110877912272000163, 2757648256123466917, 2912739325430191273, -1214789922384399189, 3315020760383542443, 4271040553761698986, 7576641477388227752, -3095568785384475472, -4196240110046120783, 3221541235806098609, -7640271080332110659, -7048877837804628803, 6475988515873256634, -6036612539122912060, 8012390158399583425, -2630854443240450873, 2356687468721329350, -8834464174677953328, -1437560527588436787, 6309433980725957835, -8507925252069157672, 722459878284088533, -4614407046169701156, -8305584965128694560, 7418096527158711516, 2302122588518044896, -1937623004759534367, -1674435853489720094, -2091538078994762520, -7685428794226174739, -5902434612529040148, -3769703561954954003, 119751843858306286, -2444038072129710864, -6661301262649920270, -6569666642964269835, 1240793882874270964, -5729687637411138311, -782414589734152964, 4594337794623730940, 2376953205475022077, 7310769225005577469, -4377134145885350653, 1880679012653061379, -2024506149560265466, -4192826249288624887, 1900175621152855307, -379926484562086641, -1142823174807145200, -932506390411537135, 5935435287486862610, -8421591892488325864, 9045052752092149012, -487451287344704230, 3780592032116847897, 4980982470850991386, 8728058533054453018, 7341277448609338653, 6372224339818845472, 1694473647418045731, 3242274901239436582, -7922649690380602069, -8974035068673354447, -5791858790699330256, 1901923964907468079, 9185350289715033391, 7370921547115091257, 6595025133817746748, -7916321280965167806, 8149932973454423355, 618910089933542723, 8469478072692733252, -3853593295094942391, 6168411792918312263, -9020626567470885550, 6837638441705461069, -5046820992103787180, 4188487737234085204, -1373243409416252057, 3667422588185761129, 7686115779615241577, 4685594298236769645, 7109539047528879472, 5686230120018343285, 959109552491484536, 4289582159110624632, -4849446380999633537, 2840917521807840636, -2819115783073458815, -4867369803023133309, -4559276007433464446, -6933610460230650476, -6760765763774966379, -399109285529750120, 4903984954879817115, -3528413560539458145, -2876981069671598688, 7144241631542195611, 406467973364553122, -8679924829647489623, 5085746889326474661, -1350962319126178392, -7402818239060265555, -7418657920956402258, 5746790119304680873, -953479118034422354, 5908816675736114609, 8693411817204880822, -4619933530399320641, 4115435310242690495, -8153360276034685498, -5547626882513619515, -1226677344716958269, -5483096972303903288, -5307115937588152888, -2435466729143298615, 1651334124277093828, 8612112345787930056, 5939653903837943242, 2026055980146439629, -5977274257821813292, -796484402184497709, -6388830584714168872, 6862864544990131669, 531821782740448729, -8008695357486156321, 1117333018985379293, -1280788510215883297, 3772878255341270494, -6254512810559130141, -947569117842819613, -929842529831430681, 7462962029620729321, 300479400327206382, 3222704569046521326, -8498296624229165581, 5277653889121228270, -7870106671059110411, 6649678861371733487, 8859264395003074033, -4224102313547729418, 4471902016565507574, -5979618738581826049, 4369264729372841472, 5085099146938603007, 4921176439230289412, -6435696844657363447, 2047642617451959817, -7076940495930051058, 4053491157849200139, 7577846208890852875, 8696513284320261644, -5810968031938963948, -518547974200109550, 5894225126520444434, -4365628232378501610, 293374136191792662, 3344453997952185878, 4181383672404473365, -7864100949330971107, -9015990529007389151, -252660247947774433, -48382620012669409, 2526714691561870886, 79108568659801644, -142017775391001040, 3761102767037822514, 2672810561057699379, 4802770142300976689, -855868970646604231, -4902501430170773955, 6077089046782268990, -910022853967137212, -2435173147411376566, -6005039928693246387, 4240055330896213578, 574021806044337746, -4743715715594602921, 1096573374586467926, -646561658486589862, -2130824169799772581, -3291726892136933793, -5342231295884495263, 7637653050866865765, -3698177819425270165, -6142852427390527890, 2160489555488831086, -1504802293048469905, 4468180906482800239, -3903181237688289671, -2836488115845581190, -8257162597774510467, 6343911290402272888, 7333817195625543286, -205976350958528891, 504612978096551559, 4105047537887008391, -5187109474261756264, 2551921016606955160, -1433290818892786017, -1897694327246235999, 1799673456820033193, 144753142039959210, 648593749686073002, 2169876839963121323, -8490529139669928271, -8735758699353885006, -8433740995941935439, 6087281339320866476, 4252502931681162929, 8747072998049797807, -3040920633053661512, -1663265896692746569, 1601292462453077688, 8301741954532071097, 6201673567788521149, 5667499608208709312, 6700456811550684864, 2735461647525664457, -7607083452924422440, -2725525491956721962, -1967864072529348907, -1157062195600992554, 7401188286592235219, 6823636079591012058, -4029871426050861344, 3445957639397275360, -657834729239095577, -609176785726597401, -4289847252345866518, -3682372785767704853, 1110331084022224615, 2359231497695909612, 1360925935550412527, 7507879369794582253, 8452729484344309484, 1872875172954035962, 6646916680277980920, 177124066689980164, -5668079494221891832, 5143265870539208453, -7271818028504140008, -8220910890994125031, 8126652205645100820, -5507091017230649574, 2375691108605105943, 3299876793560078103, -4131387395513190628, 4330197435192145688, 4908875475241981719, -6291932869051861216, 5064833129065142040, 3273332844957243168, 1449284311673665314, 3744968271951288097, -7698304155185998040, -5492245956979329240, 3942333573633873703, -7636970020452411603, 7112799564813948719, -3229718594807711948, 522048858691114806, -7119352301515139263, -4026986639881652417, -2880885737941354687, 7439612862183230, -5937275657815713977, -5613448513835575481, -5048018841399036088, -539485291611941051, 2051398671352207177, -8044347126584166579, -3446378086329886896, 6347440171354208077, 2607784607665239888, -9175189710003292330, 5368582157621057361, 8981822572421224272, 5977069699737343831, 1003116796807133018, -6792534286006479004, -5186411922643953818, -7478216888357505175, 1295737923608377196, 6425905891274725227, 7753634696876119914, 6423806198458873709, 8005807133645297516, 2969525582588122992, -8199761964613027978, 4453739879823816563, -3812077079474448522, -2533096278067644553, -1669918424695965834, -1237719251585837194, -11018595890161801, 3350684437520103289, -6528957996083497088, 7466128756319844224, 3968123708166010768, -3309459314041194603, -8628670572652185704, 7607749893796165522, -3088736984336304229, -7027464961909278817, -274528091702421597, -2193716227669010522, -2228626578275305560, 8521678211664672679, -6411476327515441233, 2392541153134065585, 8353390995192207280, -5953859365067540553, -114045216127813705, -4587741308384979015, -5360507023804188738, 395388596018067393, 3805629122226485185, -1389808365794445373, -1510958368446515259, -8755102997907949615, -9222435853077391407, -6120505724990793775, -2730017624124270638, -4850323152466380842, -3866262840290060331, 3670438022840563668, 387378425376446423, 8386735823987808210, -2985309276876163110, 2145815626873452508, 324734909012834270, 5979130391104026591, 9111130381173528544, -6863100356525983755, -8251056840577468425, -1842331465024169996, -3518316558149167113, 8461422318233032691, 8524272707699570676, 2510682768684603384, 5494312304627668984, 5698814766984386557, 3445128942272477185, 667420552826288131, -4267072236214962169, -6269324080500230134, 5291911555799472137, -518704883411576812, -8877717949945169894, 2523591016592750615, -3383533878881683420, -2984172466619729884, -7574736047200511958, -1654174681084389336, 6204086540708329509, -6159797178313050062, 890201486417811506, -6101768704275277763, 3974925820685260858, 5616273573338830906, 5566171875474012220, 7203006390558341180, -1933533435627399103, -60647724859484094, 5159744149393365055, 1167227828169930821, -6831393998370719672, -2890265201622566840, -147266147697870776, 201767814759585865, -4725500259432351664, 25674372707563600, 3950809569789220955, -6437987621400381340, 6405066238294833251, 6838004103259838565, -8076639145281259412, -7290518463473149844, 7749782634685388902, 6299739715643594859, 2910052864056293485, -8115597134670899084, -8759911975285344132, 972247065841834105, 4417428921921747064, -3449401587708192635, -5210533022638221177, -7469442959536146291, -5650470784916653938, -5750546636686083952, -1667250115142330223, 2152462588292872345, -3004179290849732452, 8495922820945574044, -4439922161172735839, -4067979747255797597, 996698722689374370, 7437582085171124387, 8090673202633914535, -7372424632233264969, -6315851315399731018, 8690408274766502070, -2687156174493386563, -6455314879625226049, -4106274921529575234, 6425421323350988987, -1174328778395436861, 7398687903750854856, -3522085815448086321, 5723444917595969742, 268268862084683985, 5645165063727200465, -5259064839562774314, -5698003298833262375, -1597657500427577127, 6344051580868655322, 1358712284430260446, -5132300861705226008, 8074264639127001316, 5897839805892057318, 4818121584469145832, 6346928549184501992, -888427028112377620, 2205920665164839150, 7765546052840069356, -4029132573789005583, -2572707798552028942, -9166713072382895883, -6032991040613623563, 5068199751564392687, 7608756170580179187, 5745303515548842232, 6422026071929633018, 6211603958657734907, 8464717321572473083, -147167243484014336, -2285363714666710781, 239756584976660742, 5406380372995741957, 8780585091492821252, 1191108145650505998, -3206395156571481830, -3756393425178846944, 1652731022429804832, 5108076260682897697, 7013970593555429665, -4992960844309415639, 2168815255235418408, -3793272336516761302, -4167543411568199381, 2772670608576354601, 1309198206639282480, -2528250511677925063, -5656947743597438654, 8951211485423483200, -6043622729644746419, 3169942829332330826, -6189386274760648366, -3924724584902969002, 1307161463562008918, 8660090595251026273, 4061171297166063974, 7958675394220669284, 4363460863884597608, 5104677599945415015, -7854244283499480718, -9025340874906732166, 7954719156463524214, -940250576074376838, 429971285427526012, -6815230253950068353, 2534977152470587773, -4978009374071211646, 3260039713346230658, 5059946610874636674, 1368872768588134790, 6125043535139060100, -7517857718849398389, -5225963066490037876, 4965331935103818123, 9113481561805339022, -5771664110975469163, -7078558343947781730, -5435898759134963299, -556281026746279524, 6840732517254617500, -6908199418230203989, 5226852738187647402, 4846744716847126955, -8216364865579435599, -5004314807520167496, 7230507255973034419, 3299802236624386489, 4340734021586573756, -2123498238128522817, 2640044185459571137, -1344117875783820860, -6424036797579167286, -485871633291437623, -8261726435023259183, 4471450756352358865, 2641572728771402196, -308519912278156842, -3604563481449227812, -5802477822730995231, -824230256858113569, 266256982053935586, -2806115358692943383, 1220671321051707881, 2970480713247635948, -5976159422859126288, -2663922168432895496, 8527973072033004027, -5643048808517527039, -3617357146594739708, -7776802140484773367, -8593356245831099889, 2557638686185462284, -879149523269764586, 5614708776363686423, -5964347455355413984, -2492916899310765536, -3852332509500163551, 3581605410483313181, 9193739515837282850, 1272962901106981414, -6086020115121006038, 2829362513605540391, 6368060721704663598, 8415601668040710705, 5558655244278880825, -6451590198018942402, -7614310754361607613, -3311774369578247615, 415026014656576066, 4401013511494588993, -8858737675689256377, 7852245308565207614, -8905187661732390327, 5521195378067454534, -218731584657614255, -1208728664658994606, -4714477102234609065, -6146362082270774696, -3325184172978914730, -5684758627428763040, 2850443923139869278, -8778650488835433883, 4986451330068552291, 7883397601769470563, -8010447988235552146, -1405539211794818451, -1801789730460829072, 2074267537341381237, 8630269807664396921, 5126378147137870460, -4002066014554047859, 2011392316266904204, 8315302183665932944, 5292690886058973842, -1378178906296345958, -3832767408858293603, -3827639992522270048, 2804126446196087455, -3325699016434779483, 5671938670574221989, 2165501596205021864, 8474886833253005993, 8735811517010975403, -823774681865422160, 5184192019988765359, -3475768226467063117, -2135985493175575883, 4159685348683414197, 2559700005814966966, 4682712492548995764, -8598392419186402627, -8906582681476646209, -3994821151743927618, 7859107908329888448, 2647620941403585219, 5152889099157019331, -2945212430437369145, 402809251718986438, 8701288703936084673, 9217625475412368069, 1505391579944630990, -6891250891887076651, -1356051371197408550, 4341678016029612762, 6325992094492490460, -2165299342185956638, 3485575730665609953, -1641972901116683547, -615591115008050455, 547963401170115308, -6653477765044208910, 7724102222553234160, 716622981920914164, 8949335170234563314, -8672355482878493957, -1718214800642319624, 4958248997630753528, 7656142156397075189, -7224589787665384705, 5931731700604992253, -1469717867712234752, -59146849076266238, 1383743483538455302, 2517353203765500678, -193706312649467127, -5632803321811371252, -1176140764230894836, 5684721002904853262, 1929685771412560660, -5005762616361280741, -4596857795997934822, -7355020601628173534, 2213892870769285920, 3050359678481439524, 841910133272279848, -8004049282222171346, -1155832292969841874, -5848747333456856270, 8401748890083662639, 1499246083940784948, -5750341858156889286, 2921028097144486712, -8533535165288064188, 4288900034987391808, 4377270268038110019, 1808880630146431814, 4795058033539488580, -7072538455022978228, -1532631005484115126, -724550519168902327, -8072355126878110897, -3178957094699132082, -2058961522612044979, 951255901491043148, 4063355618434857805, -8285038989022135467, -6078226557036102828, 1442962495740312402, -5958019475792553129, -3502765572305446055, 1031893664383794014, 9071279195780111195, -2695721186290467997, -6505044042463405211, -2525411182929839261, -8522128198117991571, 1332281634982689644, 7968706859107965802, -2460564283915404433, 5399087471467264876, -6366740080003941518, -1535998584500577423, -574762088409728139, -512647343483061387, -7086486826205586563, 3417586414936038265, -3369401712337978499, -4783921176773936256, 5771614282994219902, -5222960807493518461, 211708422506199944, 6648470342650157958, -1536155968576054390, 5836639599376153483, -4722700570993075312, 3630122814839446413, 5628452196571364238, -9195050631304365164, -8810167024790660203, -1995633893996954731, -1048056305001669733, 3219704285423180699, 6244474706623740826, -3047915189691384921, -4234293504140633175, 2099209380481334187, 7700400843525643180, 2307243693563927474, 9181064048047086513, -3135544281548579914, 467413750880811961, 5417943801606847415, 8656166715049122742, -2234413276859024452, -4525957130473235520, 7048681328452852675, 58707522852174793, 7037305686821886925, -5214971049996092460, 4741755505969421266, 6886002211127327700, -7566923782658311205, 7860187185641028565, 7554569218318220249, -7650733032892613664, 842235663567264738, 2979307297158839268, -3122790393434178585, 4948017839199271909, 2397253069057457127, 2219466387026402281, 4267066150565379047, 6342897624217803754, 836669222228638701, -8373770029053576204, -6429988975765570572, -8095016177429611528, 8614256865075264498, 405589920978689015, -6245624531050415106, 265174478493187073, -8964336742350676985, -4178080525157458932, -8862793992877753325, -2815557274049176559, 724089706498382866, 5312660229745622030, -5106501622782903272, 2566469764406680600, -2268770082291524582, -3142810053153039333, 6929846624747518998, 8471764025731988505, 8086507430700325922, -3834747738874086360, -8231227222905119700, 1106519377448573994, 638719283351731243, 6999188914235292714, -9038670040952873932, -5579702494944396235, -4995842341441012677, -367285392070394823, -8515165635924132799, -3584430108621054913, -336461483436065730, -6730151787639858105, -5050760893506454456, -7417829390598718385, -802496838760620980, -8632158398778770347, -728538658793833390, 989229458618956883, -1894210972939797416, 7610509221286583382, 4948247708980313176, -7048193942266495902, 8940384513104936032, 8322104909204380777, 8638866280822013034, 879012437626248303, 266696867006626928, 5737285283230243954, -1469689279799632779, 8615499044551048306, 6082656194877660277, -8549741577230050180, 8513772991853804665, -2828918834657256309, 8899430362288315530, 3034004169764723853, 6952174469788007563, 5493681527080418446, 9074470829656439951, -6850975625556624234, -1068798142175273834, -6626644636218770278, 2797185392273947799, -590884394608722789, -5623001952036610908, 1007419753401973922, -913271779015058267, -420079441451557720, -6962324321405174610, -8533260152918164303, 6963732308415618219, 5521469032495742131, -7651264987399365442, -7314663521009197889, 997962431403302079, -2767701735420535615, -3711310150435816253, -3048097142779863867, 5258439755916770498, -9186282838664733488, -8731836101240636202, 5373013924978097363, -9130839646563869479, 7309199198958812370, 8265331408416750809, -2116412314048938787, 960260582690274533, 8590992542957436131, -3786842090802471703, -5801122061162849045, -2390999311070479115, -5265339700037665543, 7087701206955146484, 3808568210780355833, -4549466905269166852, 5088357235197623545, 2558337257186696446, 9172169887199493380, -436783545202868977, -2876768512045548270, -3345932746536305384, -5836399720331535075, -8840993211742184161, -6317388167547953890, -3570107520483377888, -1449070833797735130, -81990191438349015, 8769449236825333033, 3015715376751484205, -4198621741598925520, -607407820601090768, 2882265711419612462, -6321882853249426124, 6989982910454717744, 7380910640977648940, 8864047288347778351, -3876913919917466312, -147641443414106819, -8913012735146107573, 3910450940270820679, -3222792895658812082, -9019989217696408237, -3938644985010397870, -3633124159576220334, 5302316281583680848, -2757801013421884074, 945741866235452759, 9028062682262240598, 5126778923211980127, -5831553967559967388, -728395988913939102, 5922093891819560293, 7560250029827767652, 3567516964348394866, -4500113144544723593, -368316899425821318, -1638754314030563973, 2804226638471888261, -6191303687868424823, -1487817663166161529, -5947238999587086965, -1699844062203462261, -9090592470490776177, 6125338070153010573, -3546468236270387821, 4901999011701996945, -7174433252233110121, 5421666177512045971, 4076860707322174869, 1836108378904616346, 5836543157034941850, 8374318295923539357, 6059183444035190182, -6461366991080784469, 819400118599351721, -151036193299833422, 1919281453313981875, -7270308265439724105, -7411335546815291976, -4439320880460300873, 8230856468940086706, 5315835705525190075, -3579097114236060222, 4038983109214879170, -3651122595286917690, -3444264213379637811, -6554390445196165681, 3165443124112047566, -3804556503589978669, -2923346497608909357, -2755888761985253920, -2500473485364634144, 8369088241603509728, -1683782623417008666, -8450118655030313492, 3435388046234074609, 2831845904573332978, 6262765455573868017, 1271105170942279159, -8346215553882890755, 1580376371106102781, 2850719385441058303, -307030562336039422, 9047905627473575423, 8229244199326055937, 2358127104015080969, 9197025173451529735, -7065636419927663089, -6031528706939199985, 8547565955906395660, -4959710106176496109, 6427638450368618000, 6666426313409404433, -8297580421899829737, -8245679271287251431, -6993700907255030247, 1378146493366173206, 2673075820642999830, 4169663807441452565, 5217906268198084121, -7503525243468390881, 747834282465254941, -1825350631627694562, 5491072844810763814, 7242884542873427493, 7958837807626804775, 5477404942861475369, -4430200409194676689, 6282977506372124206, 8806210974432853550, 8480745292456189489, 6276954226386083380, 1089908588397084218, -771503703009886660, -1494476860355510719, -9200449057145930167, -2999709174893806007, -7299413314388033972, -2412285807527084470, -8668828485552513458, -2086293551720948152, 1649305946025360973, 900428927825911380, -3065302345104277924, -2571458474169672099, 3179519309578419803, -203168270407606690, 3365059862948773467, -8101622308245463452, -7764913236081811867, -6807456618915152277, -2341388733822353812, -2336630574379483537, -2452735964557418896, 7040558535231127148, 7586975669288746603, -7680432835615318411, -32984265708470667, -6148175295694922119, 7267524385840569973, -5883112523310850436, 346997743264030330, -626761728393863550, -1206532787222413691, 2192039276440452742, -3314450030775058808, -6750962216048410995, -4758555074134614387, 4545367761217404555, 2960162978027495056, 8151552668718587534, -6880285260880527723, 4431682748989636242, -3330109700087021925, 3337229935668010653, 3491754914669665962, -1527611552216301907, 6653927230158438063, -7531414471290405194, 2199642901486190260, -8642436529950564680, -3183915085826236746, -8448151197503250758, 7433614597103779504, 7886790196508229300, -6725097481376735553, 4518085050533879487, 5105580201240690367, -3922925635877036347, -3552731884116025658, -2750725308237054256, -2348757081601671468, -8975762365216874790, -8892894187243708707, 1819266593486946011, -6536389877810397472, 3019468397969039071, 7159557535300280042, -5566378396006113552, 4870422384428531438, -7500562699098202375, 9112787376669204211, -2936507032574288131, -6688958119225540863, -5302661809440022776, -1187547846961176824, 390706486919520009, -6240774739257925876, 2722668293560975112, -4765630522581238000, -5039698766682693871, 7644656479283355403, -2771040569933725930, -3861612734568653033, -8815544355413811429, -5270640276659675365, 7651346054899695382, -1880439243199045858, 8711908979391635227, 1159993687087652641, 5930085845495389987, -7985981480957624535, -4794373172296343768, 1409583288852717353, -7869960775794245843, 3964698696365408041, -2527843973504663762, 3543642324037828397, 6839576715284856620, -1952806589488996559, -5182278065261674696, 1195792609739939639, 1087229142194962232, 9098816855031316276, -6047099804046753985, -2235552167074873538, -6912324679667605692, -1912160177022795963, -3941145242372743350, 6963149304199495504, -7163783976403280040, 6583436593758642004, 7849142470699229023, 3110653624988286829, -3992408138290741391, 5166245822060363630, -6906171320518303881, -7203241240466579591, -4335640537244754057, -1962941426063728777, 7920625560705679222, 6170417794729795449, -6262423207227408513, -7072335957935652991, 2437685821476675453, 4776912588821135227, 4534439617750286211, 4953410549594881924, -1767411738026295416, 5985191757202210694, 7970824781195165573, 3152615278139744146, 6029525251444449169, -5107825969716732009, 4615479009238220692, -7498903929817587814, -6709962771180593254, 925506316807921567, 430997061274378148, 3284638440856870819, -6208102445093486678, 598340003344433066, 2434687433754238891, 1422741618158346158, -4357678456137048143, 7061290706290024367, 9211864709659312052, 3225846654377598904, -7537108923440193602, 2319556258242838459, 9004256985515597759, -8808850995729604664, 1284910819904192453, -3353199816493064248, -1446797604056227897, 6369074695163592648, 8406469952286719943, -3800657809894006833, 5624824621419036620, -6963009228939280428, -1567723113394708527, -2283815980543352869, -1225897821978771486, 5971597256623194081, -6259182048135495700, 6268934797522730985, -8461581509663399953, 1929990692696031212, -2336306607267102735, 4740721940520181742, -1395534524068749324, 3145706787277529082, 5678984440019222522}\n",
      "Hashed shingles for Text 2: {3099877166345674751, 8944063123657768968, -1300749809163001837, -4024986507606450155, 2383660870032072723, 6464072547371941914, 2339283276524486684, -710334110372528096, 486196124945006625, 2998924581191786530, -4304465650911010778, 3323735890366562341, 7175491151627468835, 1281792056021385258, 1361778140359049259, -2991724961139523539, 652319261566853164, 5725689108548689964, 7464996105012543531, 8259729832703352874, 8815280898277310510, 8854447605184208938, 5924175379769475124, -7360814970478903231, 3382274144915873853, -3720376906361118655, 4138644448030695485, -1232622520518393790, 8228335023304302656, 2554469256815566915, 5438167950495735875, 415477922030936139, -8668473733782413232, 5485926849356046416, -2065145859656245161, 5880127433896542304, 5814336462183129187, -3940116933575008151, -89820561771544472, 5926520771044401260, 7294571356967542891, 8911618059354226798, 8332918661013176433, 1954913926432579702, 4027271910835748985, 8209267941391138938, 2761298431178498178, -1325041379147775861, 412236330614030478, 4060373048140251285, -2721889536436862822, -3697663165878673245, -20854410336108382, 6190704387598532774, 592624794586693802, -7875017826761719632, 306410900709286066, -6525876625705172810, 6480187574530302133, 7753591575558750388, 8344298965829353655, -6665265793830625089, -4311138168449548090, 4829360970502406341, -2738475186932727596, 4247659358966505689, -4797510109021413154, 2121808168472510687, -3513613642112130847, -8848126451383394074, 8359447223524688098, 1714452073873195240, 2388730480924385513, 2597803312622059759, 5195296340741488878, 4346672565287952625, 1158308908066758900, 7609455634460877045, -4227628378469687044, 2313215909902082298, -7978304589394067186, -2687283541988310772, 1285752882491965712, -4844734262372286187, 6893512279235838226, 6981063731438534932, 7677835722206732568, -116852342044491489, -8347760930807725789, 38681061766357284, -6662770236445875929, 7788050865726964004, -6272469790416797397, -7986538840107032274, -5213516862345526995, -8791790468719861456, -5769330213824650960, 4940756997857247533, 5911481609477169455, 1972549239278207284, -2806822271310569161, 8982103677302464820, -6835569684392951489, -8123077151559868083, -6430333332693302964, -4726245568439180973, -5877167844730216106, -3460642708100488872, -1410553492355325608, -2397968575721094814, -4692495118275403418, -1502865525919440527, 441050659424682354, -5571058623588802184, -3593485407629393543, 459815650216534397, -4281534206428413567, -444312546760220288, 7595386703808848261, 2408914625940185484, -3443003308598345329, 8428010779595317644, 6532113912064762255, 3876053489154630036, 1350827374512939422, -1547760281031286364, 3315243093259977123, -1675727246499118678, 2688378740544840112, -7281055755454807626, 4239949518357799347, 3257145873086587316, 5529458569772450227, -4601045086142602822, -7530603573741338179, 7497106973153477049, 8405014718304797114, -8540241778825535027, 5961834375603478985, 3042422356926849483, -4637991752012258865, -7941207761216478763, -5041612236407848490, 1455733413124055513, -8284866071973223969, -7566884973689437729, -1191616139632123424, -2933736463084740125, -6012542467297861141, 6019089774336573928, 9015367338164838888, -1921065344288177675, -1846284811078647302, -4460955668497800705, -1685031453595827709, 3571044632157684228, 3570268687626207751, -3487548327051206122, 3330806997224120873, -1014742750036630993, -1199575653892283856, 2525729651481166382, 4601772916044816946, -5973082122468416964, 2491380577212940859, 3701403908805288511, -8764160767961644472, -7220977918104690103, -7078162922623475121, -4758801902762499505, -3457298900587560369, 947899469559325261, 3226001444414939726, 2384681750608126546, -8566217426650676648, 4360704272622355028, 4175124811229610585, -8558253800883936666, 5748111790174323297, 2412525662807638630, -7178126695973862786, -368798240997571970, -1996380963884998016, -7537349133146299770, 4117108660152820354, 7300164213563900546, 1317225082533642889, 2020032268339094160, -1254101303615446374, 643492842014687905, -7172276457903496539, -8190909127666892122, -8126088088201993558, -2357414329858309457, 4847775677193126580, 4986673723553587892, 6410239356866970297, 3924267228891808443, 4514782718732599996, 5801668011153040063, -6589139946117471548, 7246133682701796034, -4833968965373345080, -3974234257642700087, 1385307352477778635, -6954212496442490155, 3749859612383109844, -5121018308615290152, 4553526402261271265, 7092825066590520033, -1167641945478028569, 1589414391576814316, -2861494412151594254, -2758449364711136526, 5285653662397367024, 7374357493809480433, 3614505402855981813, 6581299327209931519, -2460422016036117755, 3196954796571337475, -43513008835419385, 97428822343172873, -283089658400324851, -2165605314688482545, 8569861172786373389, 8314969600834421525, 5779427918733706009, 7973443040382100253, 4811962728949203746, -924967886015397067, 4177154714077299510, -1073430563853032648, 4001480566903702330, -2900715235688774849, -794172332023086270, -707378051335101624, 2525987079955333960, 7206625142490612554, -3357211826408201389, -76234748411264173, 5429256226276270935, 197907382305850209, -4692621803265719447, 755680648834524011, 4887547251463979883, -8346909828206091406, 8105621472231785328, 1671937763636863862, 4238288573924082554, -4473033202820095105, 2565799975605224322, 5859232670768530307, 6608846955496555395, -6224482354030197875, 774346969056338828, 3980438449653007247, -9034459491948985451, 5467324129197998992, -3589603613780278379, 3285477023630754717, -8699646542218828894, 4270934000496288672, -7480646775848598614, -6567598313986309207, -1821752804291902548, 3943933571116794798, 3415186199803388847, 1459718997278385083, 4131309955172729786, 7699321290725155776, 7625997506723955651, -601870814882323513, -1068424400117873720, 3375792118568272838, -7709032218325916723, -7021414737422654514, 8826874429617234887, -8079604930161884208, 4375830395871626189, -4730534765993630766, 2989794901611381711, -1810346238140038180, -6054757404597345304, 4365539993099879402, -3312354453780724755, -2069801985344560145, -7729009653814107143, 3546459618757149685, 7817973085348537333, -5844071360022436868, 1899377364046029818, -2664681406427110402, -2894859295944063999, 6651581413850547208, 650043704247215118, -2852911098066746349, -8937852922881104874, -1127305586638167019, 8744661944190739483, -5498355821939702745, 4520175457831371813, -7403964044206136265, -1707096789651807176, 7506997979173520437, -1589346784741850044, 3463762813523518532, 7706966837262763076, 1266916712723178569, -8742646168064514992, 1672940348033565784, 4788280836283425878, -2422590941324262309, -1055425272386132895, -5870894294463519639, -9220850293937904533, 3133410145013498985, -588550694053239695, -6025304189821090699, -7685022165692308355, 2546782893494723706, 184535372204115070, 6156485817503843452, 6608300410773234818, 6654250797773669506, 885246766763607174, 1259388081407984777, -1897405233053465461, 2862038324914906250, 2786589386191578252, 5579618878336017550, -9111494431636323178, -5349260508204489568, 4047900957565969566, 1651544157631784106, -6198859125321874257, 5364145905305461931, 2863532741914141873, 930475579666556091, -9042046428966132545, 7353624288191177920, -4714065995182504761, 2681944137926321349, 4847607570992309443, -9149676304502823731, -2684716076243254066, 1218597560178181329, 8415368222221190355, 3697352909703840987, 7783515478408742109, -1995791062658751257, -6578259700657003268, 1184345370463053051, 2598760697373140217, 2969109911694615801, -5947299293474134768, -4609349261247888113, -8676893819056896749, -2392228052517190377, 12331865391219991, 5879189344229074196, -1447379445662661350, -5839242065253874400, 8038646493259506973, 9087348114495522082, 3067351716532102437, 3226002882682537254, 7459330280981939495, -3470197203626949330, -5096644799050791629, -8770731973700991688, 217665202036507958, 2278203676141798711, 6408170345621726519, 7291670241343128888, -4682371506462161600, 3387355588271818046, 2638749419548157247, 8287029066949649724, -7205214401574738608, -3536206485129206448, -6254779663290661544, 2297565850627343703, -1107245423483640486, 1711423713847043420, -1880633336192326300, 4819878815355397475, 8325784472875713892, 7977852809293849965, -8099848184584133258, -8927171211527944839, -5728024333127113350, 5745815454074815868, -4108993939916380799, 5583087917245408638, -6492745400309897851, -3199137502061091448, 3233236220260951431, 1165199222769526157, 9062732122243466637, -4259924466041305710, -3403056066648930925, -8985013886640593514, -3195224399995476590, 6085609267319727507, -2685074378295827046, -1277469509237406310, -7720731017629653597, 7458002775647118753, -4476611048285821530, 6915832713410561444, 7825555456928351650, 8353142868826121644, -9043375287903541827, -1243208319572597318, -8185896628602075713, 1488135452663440829, -3644302539454683712, 3162939550842865094, 8784238368198174159, 8908789490519410127, -4910654055333927463, -8626022311973280292, 7778381085940491735, -2881121480112749090, 5457092029659497950, -1814033001401563679, -1503101600561830431, -2066925458327452191, -1957809029899688476, -10100699412855323, 2255074345272477155, -4176685005989476888, 2642200174322771425, -5751999357152950805, 2390697131808638440, 2681982516144375272, 5604753643824063990, -814254995912210951, 8700059167900157429, 6130928262789072380, -2369031145499744768, -2053914080957438456, 4755278288664643080, 2500687052946777611, -7630781777807391207, 382738890373678617, 7484849591173162519, -9082508515771415009, 1556279540614211102, 1473439789128951328, -2783018563076487645, -5038919439061268951, -4179520460041943509, -4619405839231130059, -3046731853559830986, -3478160294323182019, 3586668378374407750, 3376114534334989898, -3791615272058182067, -1582495026429311410, 2147290216137188945, 4274792661044217425, 5217281108433217106, -7320855911806712228, 3756252246061598298, -8300916059324348833, -2648739888839465379, -998350036068620708, 8552430871094806106, 4646652903013967454, 4467084736815228512, 104436149784200803, -4484077007266093467, 464288847594636899, 1599025078175565413, 2400252095905826405, -9180387396977088917, 3499144014150911588, 8314836091830552164, -7101498157748885898, 329566458007070324, 4169053973884036722, -1600231166402460035, -7620387117876713853, 7078280505175713406, 3386964018723866243, 8275663511119341185, 6556580924685764228, 733179003317356167, -1512183489100274040, -7806093766098475380, -7170529803059968371, 8205402893186549381, 7805476131192358537, -4470260146946169200, 1222085225722365583, 2319488380382914192, 1821967011769714327, 8262341350799820437, 2101560882283759260, -5260707011942062428, 8858275472323978917, 545778070370305706, 4506260620311553705, -7824335243737921873, -7239809170220874064, 1784816903680591535, 123431961038833328, -1932662045097982287, 5964456480297535149, -804607413126109509, 2936421495458449084, -8338338721505073471, 4322727124764419774, -1749782186643396927, 7028804506350806725, 3226865992752547531, 1166346638784259796, 5454803050660579026, -2125659919376783654, 3472619522285135582, -7965406117804906781, 5014603780277905119, -6820344952815335705, -3583203126158506258, 6880794187267114731, 8023707773906929387, -3399434678251149577, 2331142102092850934, 7001899290098689784, -220966141550090498, -8028388909109197054, 1039414879071667966, 134002560804038401, -4595287855635044603, 855609402792978184, -7387599449011370228, -1699633519360645364, 1394709955868837646, 4232911242789693198, -3447277514977679599, 5474667885916751631, -4764783322120526057, 1485080240646637334, 2035192040175027991, -7507851412260354265, 2833644277908170533, -3187376505385941208, 4037427010746582822, -1144311323279792343, -8758254541969987794, -4321988835831822548, 9136026298209396522, -4725890921911703760, 6348392566633023293, 3709299522351662911, -7694465828146550969, 7608242938812598081, -874804910490728633, 5063689824493487946, 5966944870100789073, -2677586978801006760, 3596186337242326876, -5183557856058972318, -5639757747222460572, 7185882200774502243, 7704541156494780262, -673571386594752660, -7879628024191129743, -2026171281215674513, 6610323058720933741, -2394819550935341184, -4730463559970314364, -1059472732461955198, -2016648085398558844, 59919979595138946, 3831248916056819585, -3237710354623264887, 4133635700335888264, 73489500929435530, -6797454640027539569, -7721737049030383725, 1106562965066966929, 1389960219358979989, 2824387159679969176, -4295990368088782946, -6936599813529639005, -3586970989675731037, -7209893240068937817, 2691252297740478371, -6580424523869485144, -2942268996765898840, 8407725313312221091, -8388779628145653843, -4444458514484639823, -5899269866710980684, -870161308269713485, 6185993337925781428, 3960259126634489782, -2195869955714005054, 4273006222642005953, 2308862082132731843, 6001533378615535556, -6150229458099566644, -4487954705797003317, 4875859513089812436, -3075559925531883553, -9023249147744901142, -7978724922081794068, -5578885226354939925, 6535017211619166185, -8959806391428896781, -4193578755996391439, 6716923500034312175, 9022870375842883572, 668285812438452225, 5924238976547940352, -5398224509314299897, -1357160863075670010, 853305156018104327, -8024056098163644404, -5737596994595739636, 2016613091100608521, -8088042948647491568, -3059313514422736881, 466077231119607834, 1981369189704558627, -8062889283256244184, -3430539533959903192, -3648648785574590418, -7220266571269814220, 129859382227413044, 2351802044056889396, -91514247177312200, -5146054946005227441, 7516147218066917457, 7859448631358531674, 2445153214686685277, -4015105629475133344, -6039584976915666846, -6183056380333037468, -5633948278220683164, -4749166262711875482, -7878365482659534739, -4933740109764491152, 6182429492569565293, 3974130878131447920, 6652917270846326896, -8800699810004064137, 8282393166096943218, -6328114639877945218, 3073907415964313725, -2139430266850129793, -3294447434845656959, -1099452873534863232, -478993272758744961, 3792543571577989246, 949158529625720964, -4236008214132430711, 5791343837957884040, 6387735985487136905, -6249657976959235954, -4963025071867180910, 8742684163472967821, -7531174252119627623, -6928899961879164771, 777361846030854301, -8987956954958681949, -8903042959511500633, -8635337131445319506, 755319106020395194, 8588884321384786108, -4702395235800766268, -5511937360373348151, -4669541307700942646, 2964617273028913350, -1309257622887479094, -1112124080426940214, 1155387758480746701, 1561365072567953620, 2413765210885851350, 555527158421948634, -996874788133599004, -1699062699109275412, -7553970203724035856, 2247043293838051575, 4245077664107997430, 5640933117052643575, 6504014364253112568, -2815398269289912068, -1195935928787859203, -6418390824397059833, -8044242439600821999, 9026003568089680139, -8976230059869812461, -2620265616962418415, -1815940426859837155, -1770794156490569442, -2104258147964655328, -1485203486903146206, 1451403151834376485, 5450247107713050917, -6165301340829472466, -5513064309011191501, 4807082368841541936, -4452864052103517900, 7327703077349902640, 1088692578961500471, -5268457928506906305, 2058226183430515011, -6030718031096125113, 3964847405880191301, -3589464932272223917, 162533194029926739, 963722951910508886, 4436736869518362965, 2855660890466150748, 5736086331304888667, 990097568627501407, -4960912216721462933, -83114455647426198, -4713142611318419, -3592111332763055757, 6380773539632179571, 4070873488599607671, -7417456939136972412, 6128738442405595522, 1392859235803670921, 4757073406351206795, -9070291011348633186, -6726949815990310498, 5447738338015226266, -7796067574890108508, 5440028086917253541, -864005830841202259, -1276828010363672145, 6067033174541068718, -8596162366694831691, 3962191470946732469, -4231201701820077638, -4195716911724607046, -5022133533450081859, -6099005021063951938, 4964406573572024762, 7243613213063367103, 2233042830434134467, -4960648336433255992, -2076235876933080633, 3337225168685427146, -2473261357923989037, -3789845417770702378, 3588551822682565082, -4906428867441604129, 297116930333993439, 9143284154016262624, -4302473026698475033, -234748872028141082, 8461221976736385514, -1230315460683224587, -4905981855326328323, -54478592100595198, 6988797448136903169, 6130659473358924297, -4682864679548671472, -854483072854136302, 8213367029561969170, 1259102156160215577, 894445284898966044, -4548020014326019551, -4287599211993208287, -4909993853984871893, 4451529145465588267, -8166110236991870416, -4398963765335455183, 690923412841171504, 3028755315329313339, 8075925427193662010, 7065250887061187141, 1358514524426725964, -221324812855244211, 6866919809012165194, -2311222784548795822, 9175353788216011344, 8363105037121931861, -906824138427356574, 4012103235799091811, -2515014039769970071, 7848359437995231845, 8270276665267341926, 3683351945429133932, -8098195215342957967, 5365098393749744240, -684182290607568269, -7915184870886200707, 4053454789344373369, -3021789367975441784, -2121640840110175607, -5535399220218566004, -5977378372365743473, -968516852342969712, -1800141281243084140, 1579905706888399509, -5913684272765121895, 4679068046177159831, -564884368425235813, -7821169775241704800, -728398572833092959, 4612410615780600483, 7460122931586583215, 7333719927213951669, 1482271489811016379, 8422710702867040959, 6798780905960295105, -2998833679825073459, 1263213906134002380, 9195427197722987209, -9039138449594873134, 2209383024911166159, 1473811265899989714, 956754425749367511, 3972802970805226202, -5273913910649574690, 2088094065135545058, 2318692803629632225, 8275103917888973544, 8656906654940334829, -535797484467270924, 8453390341952277233, 4908780725458701044, 3868199341828598519, -3509311791078421766, -7149155767026054402, -8662237101671683327, 4677350292962544380, -6221711987436369149, 7787565872795323134, -962475250798056693, 445023888694717197, 8636120090217253646, -3662214167226946797, 8732745484172659480, 7797249812946709276, -7367708137363281112, 3559370743858326309, -5662810441634698450, -1121175840213513422, 1503023852952447794, -6311906282128921802, 2473076574404184882, 395505753851996992, -1747237300323136702, -8756431996162659513, -8362529893881459894, 5730436264293247824, -6879049043866653867, 4888727972876110676, 7288747367412591445, -1227165270780794022, -5388100287394182305, -3774980919136179346, -3455694538285438098, -1866824795992732813, 6195301734209137521, -8614722196145288318, 3306667311872330622, -5223839075389748346, -8325269535273407608, 701930727767133065, -6492550567585223794, -4637610353129747570, 2473040123151657871, -7638848532048843883, 8924531384938433437, -3932339113258038360, 9190055793079167910, 2114684634100706219, 6404120962014088108, 4492561129111808944, -97633669445874764, 6628749532197948338, 896251083422174134, 8778728350897859509, -7082650609479971908, 7997100235302677430, 5786745199951399870, 673900965931158467, -2529767617152734267, 3646926058691144645, 6219007173493771204, -8884343988868151, 3547456569906744266, -6837371969129591856, -8604848129205154862, 5711276557631482833, -4969778003101537319, 5535430602062277591, 6826628840511138781, 4035441357492620256, 7801387161214233572, 8008955656911989734, -1364102358258168854, -6238284936604161043, 344850884981320689, 4609610807152880630, -6993406598280713219, 2927156913033374714, 670628887044361219, -3599284551455077371, 8846102006151187458, -6382219095278408695, -6039074787190338550, -2554838482737026039, -264404544221484017, -7367490768484660205, -792823135402038256, 2580442253791816726, -4767057367550677990, -6035656819294663649, 7787926677893139486, -2800110545207686109, -4602401244125295579, -810472657037595609, 5495396178636475435, -7182700315421594558, -405584922494424001, 6626433955872001085, -2401118255287382968, 6992257628391287880, -572846417424520108, -3115941452281082786, -2709172628225659810, 5815304012443511902, -245852899614651295, -2863450406981956507, -8871882629027156884, 1601598733640150125, -7680696008683451275, -945002363774096270, 3275980212806708339, 3704472403253873780, -796470407872934794, -3147682054818247559, 6786456360264428668, -456207136969798525, -1294949055017579383, 5073823228406533255, 1533658985833376907, -2933511203364893552, 4667095368966900879, 1308854563344673958, 9055438150628535461, 3055994636574313647, -5649949198346105676, -2260207915556189005, -3915083062799397706, -5585431607772885826, -8924598625274417982, -1766859220050170684, 3509048924976336072, 5711106338679655626, -1300531833816355632, -6282400728213500709, -932191546973279014, -9141026043004605214, -5480766963785192214, 7676983206620286184, 140608296674807021, -7482921400296829711, -2039663393350308625, 4258072350722419953, 698913841264889080, -8719675676714210052, -3384087110991598336, -5020856655345906430, 3292879547949829377, -3105927299146396398, 6884090053561208081, -5912731277503918820, -2406780329035543265, 7386368796297678115, 5707916202557074729, -8909275835014976209, -2902308942264046290, 3662442481535610155, 7222418195979201832, 2711882225503989042, -793077547470975692, -2287772611019018954, -3126281797026591431, -2466536216749617862, 829788934488829251, -5688766782584574650, 5774558285354257733, -6935843135571604149, -6102511337110794927, -103259090969326257, 8855099117196856653, 2180852590712155474, 6342529115765615967, 8994367131212877150, -5615967440025629338, -6421584551161049744, -6619309110993605255, 3563493037215952249, 6127636036933463418, -8595743383178162816, -5948540136631595637, -1895142872101958263, -2382396792500392564, 1707781591861120396, -2651666747691078255, 469496654304316820, -5725950703230292578, 4572310171148668316, -6994482853746381403, 5929698050598661537, 633264999554321837, 4621924975912644019, 7930910208479161778, 6904062173178015165, -4032609372029907511, 8575553572662111691, -8942582353859228206, 1225072497807166936, -3241770311194595878, 6033683907018042840, -884577611064472101, 712559524488138204, -5955437613969068577, -7926976531748172318, 199599996394474976, 7132260732245831135, 7514016056812973537, 6544806737644522983, 3207047973005118953, -8903227553875431950, -3020327832489112079, -7975203001181450764, 836729039296916982, -3188670528171782662, -3008267092738912771, -184878018979058171, 2005848459285859846, -8481068768350999026, 5118121195298901513, 2919824963784994316, -6741218048864948720, 5742963750937300491, -4405003738635260394, 7599816254595591705, -3971152843437519330, 8948128835735277086, 7221556946633682463, -962278855603507673, -8887546249917026768, 4826398818673937966, 8531825195083664941, -3296079825631539660, 3994376656581365299, 4847963788838899249, 5021723643009560116, 5597917776211856948, 4815071777596198457, -8516890679874580928, 1256419204239527485, 1198378696020872772, 1819802466262961736, -9011792276734726580, -2572771975634268598, -2164878368010932660, 2759090384296963659, -7586379778860167595, 6621394368454389328, -3065838633388175786, -5293543534649168295, -420933915656614310, -9090339854264136095, 5094548982989008480, -5494894514940178837, 8297331272521657962, 6290707240975068782, 7173274808739524215, -1306154790904402296, -5189530501317046645, -111861633445892472, 9212192657606258311, 5368419926970699402, 9158166367340793485, 4800015050442190480, -7825645995170328938, 4677174522914975377, -2604291172680331625, -1843444810917327210, -5074178933368303976, -3525951829339943271, -4509713383296168294, 3461122896605556377, -6131197042080772448, -2710883061960765791, 7192365472909577886, -8165605495049720155, 3225212483143650981, 6158533256788127406, -2607997108110889292, -608911113624195395, 3241415697829097149, 854429674574008003, 4351413748489391812, 1557716925933694664, -5055280825018495284, 7023872004618268360, -3378194792193765673, -2844403998821568801, -1940425299097882904, -7125838978721288468, -5996234258188169493, 2004769166433832683, 5916144108257259242, 2213831359666638574, 7491498317604949746, 5510785365075726074, -6010803031335235838, -4640877506377617662, 1504072667046309632, 7245608548184649470, 8083836914045071105, -4268798577978175737, 4973966553504411397, 1317792815948615436, -863436738300399855, -5854753935565279462, -309458318235013348, 8503272906747891485, -7963179487963050191, -4870872057579499728, -2908181875727028429, 3816735967012884282, 3443889223347605307, 564436637200854845, 5004158739815427898, -5885262033334186172, -4282366561460670653, -462258022238589115, 2816131722760793926, -4226622535536406701, 4815521666811973457, 5018894020249292626, -7389934154008817831, 6294688699260309333, -3030997062320861351, -4670250057891983524, 5011522637944557403, 3313066444183424862, 1189552204875657056, -5644558792084369563, 3116065489203220322, -1881210176485945485, -4462205680010596491, -1012956316453187719, -8999715242231935101, 7532410128333459325, 9026345997857107840, -6860925489023029369, 8728457110123458439, 5312395914512035721, 5781092872489570188, -5533483833408770155, -4600762342808449131, -883758557089951850, 5996430718759759765, 6099471391913725868, -5704931928066461772, -8818131192805978185, -3795123441457573960, 8907075507211227065, -4907001069477572672, -1359368562527440952, 5419724687559618502, 6995072003647090629, 5904831405064835019, 8683393562798018507, -5130337841943728174, -7206743970181607464, 7656602616876199890, -7028436552680583198, 1728450277037699048, -7966610572225908754, 271891902139748336, 3935986924351885305, -3344132564367405060, -8327091446524383233, 6529253134269845500, -2073026275484880890, 5960889258679808007, -7332445661009981416, 2736474925326643230, 1969455920286068771, 28237152741724200, -2882393917993816016, -111943306246770641, -7244975491786018761, -5625257811611529159, 4678389659120095289, 5400933073336610873, 7552462624877269055, 6331721623994789959, -5634973722739281844, -3820414987732905907, 203730384859205710, -8121518490769870760, 6900588422046003291, -7895700855440232341, 1479803811570397291, 7380847353550188649, 5685983292977754221, -9210447461661142916, -509145952703770499, -8821436231314894718, 2390423122515226758, -4624393799830228850, 434358331011182734, 3464077328892514448, -5522387853481963371, -2767403629163401049, 1779145200096088239, 443996143082090674, 2198262813969821875, -7734220455073410888, 196637305946263733, 5183285823308804276, 4416239865768284347, -4423392684402085695, 5856694372542623939, 6682696660898197707, 8362568055105433802, -6661166645667204906, -2629461808062836517, -5445998382650625827, -2606709662172286750, -1514067057494249245, -4640827981183872790, 3719590793434476785, -2705132633447010052, -3145614300293263107, 8252381466964111610, 868561380872450303, 983858883099791615, -7696228557206359804, -8031063167992180475, -4095992884036767479, -4660769652098920181, -2894021998932979438, 9019414107511230734, -3089941055170350828, 8850735351678750994, 6587976643541569813, -2181473986160930536, -5781390761756069605, -8343707640395771619, 6738012329304297752, 8275334521802903834, -7088328922019196638, -3832165477097410264, 3717808061647065384, -3431331015245942483, 8848618309850067241, -4564944923984326346, -6004503098799623876, -2069379561191214789, 4748425147053658430, -751492721907093179, -403180841811906234, 3811981794144555336, 912835044578267471, 8667235159592153422, 2000663897457570131, 3483486221207818578, -7257486578397933224, -2734562759787163303, 6577748961025380695, -6955184595179695770, -1333657395480972948, -3626646530720910994, -5118327465568022160, -3147060376903675538, 961661801398407532, 3461158465315631470, 5530664706323812714, 6957554927868408174, 302866597387546997, -580488177224306313, 7378003163541115252, -4394634154271903366, -1189522043512991359, -3012384176926576248, -6082645343186177654, -9062034405466877556, 4676352411089998215, -1510232452449832556, 8017627602418192791, -9141718588640161378, 7704088344148054427, -1600219266446478945, -5021440086289272411, -8112889883287473749, -8088902528740380245, 3878095494151049641, 1269643038827753904, -2379153161243569742, 6786178863056875959, 8016679600687952320, -2476950215478242871, -3839552090361908777, -1151938186765061674, -6013153288745946660, -3774868471431245349, -3044739930323258915, -8880496382820077085, -6775345887543922205, 5656250753716539874, -4881082968934714901, -324770971018997270, 7458266078984843754, 728600198155080174, -4947381052229103116, 1528453484094460405, 5419090032423522811, 7634243826781958659, -6713247566630579703, 3640357096255017487, 2775515562383954448, 3587982969184006680, 4879088085860176409, -6960635716608347615, 1053166938712289822, 1954219581792637470, -7834614436318989788, -838239521860824543, 4619973378952745503, -1054332513886531031, -7177437590397939154, -8845282906656378318, 1044099453183857204, -5559820322834484679, -7125282787700469189, -5020869266764844487, -7835024121210457538, 2938085048529547837, 1959300722055909951, 3736252791941607997, 5938139182868279869, -5934349778767291, 5792645565216944708, -4076921268173049271, -4197782465166536116, 7862702096743838283, 5369804116498502228, 3044317272733381207, 6715825372119134808, -6500164838460566938, 8021163066928738916, -8198930001608674704, 2883508288348672620, 7879199988348924524, -5697780107550387596, -4903131860770524549, -6976714783052090755, -2135803484466097535, 4213956098645734017, -8212320830752214389, -3750762735619722615, -2586837879154322805, 4249480171669656201, 5404909842094805638, -3116274114549640561, -4588415654252072301, -3857062363743235434, 7835138386398311061, 5305313024740840088, -5295466295045582179, 5250357997233918617, -2128375021053734239, 7885166479682155166, -9028355309641895250, -8532033596827151698, -3973262966984953168, -91038628754132302, -9033278686821289287, -7325438160938184007, 7359579244450583220, 4891565745614803646, 6549697798985396926, -5083783735808036154, 3511059142813110979, 8721936589883904709, 2543742768491205323, 2561011709177377485, 6673218336522236621, 2529222298075550420, -8914519370919963940, -1584022931942731046, 2549875790495232729, 529219435572769507, -6879088029859654928, -4015901875268906250, -1218949207712738564, -8045123963679575295, 3411668455719269118, -2280199785894726908, -4237314304742706421, 3102734146952246025, -1090263124887588083, 966883577190347536, 705992872483525400, -3995565383787318501, -2592351814634556645, -5007446176008203488, 667480562548396836, 5100890561222914851, -3299127944677903576, 2397333494184088366, -6271382308726746314, 5117634606760170294, -3506090834160643270, 9006457806441501502, 1758909059285390146, -2738290345292385468, 2147776966740046673, -1024019084594490540, 1228207295252476761, 8390651842251977560, 636332504398500703, -5153736195022605469, -2330362031468211357, 8752052691026826080, -961088612217580696, 895822281817224040, 6842388507194274667, -6740923967653407881, 1766848740268249974, -2208394577191046281, -784323419095354504, 1834294191466959734, -2802103961150270592, -3484409014562540668, -859396911615708284, -3099106029668109434, 85175836954260356, -3619497544521895029, 2586982484889146254, -3832573584720653412, 7683152921367516058, 6897327737488216988, -7409593655728860248, -7143082302246939730, -844305123638406228, 8433255378326164395, -2019015039595506766, 8737430996958344111, -2772123974455798858, 7006514457792156599, 7757942067854554041, -5355227185927277633, 4530367022007366588, -7158438927148026934, 1857083290004009928, -8066774196103646260, 2421949729901425606, -1714532956948679730, 4773036665518404567, 362358102669612000, 6128774391921685472, -6398642848259124250, -2409326690260552725, -7938203052588395537, 4158581969116115948, -2980047211816152081, 4024397756996637677, 292182249625039856, 6299391424878785522, -3704650795125836802, -8270250047359536125, -3946529503142644728, 654466857075135496, 3971290596159263751, -6829377343387061233, -4165695927561718769, 2263178095833650190, 5437622801698493452, 5717840661650904079, 5189205438877824016, 7631873270973887499, -7635845277835455460, 7633986116305196055, 3750782401731859484, 8120298223635100702, 6332601038443009062, -4377159333160381398, -3132506168568908745, -3597927875711282113, 9039642113164383292, 5434026613434504259, 8947213744240448583, -7844889623744801713, -3462766387862080434, 2378842323113210959, 2311428112584160337, -9107707375610792873, 2517443333790766170, -956259829171022756, 7381299588553634908, -5992149007996595096, 7629164046709240936, 4993973246832309356, -1341000333185158031, 5925615307258590323, -6173511394972830600, -8323744672197323654, -7525334400465578886, 149837598687335542, -2511152755396742021, 4690269475203994744, 3914250091646932098, -7939597146891283319, -2246641292998691699, -1620971528240565107, 2850624246059660429, 7633706188822279306, -7152382235319233379, 6224846739793351833, -2759751044541344611, -761736616927988579, 5150685993138312350, 6826573112632792225, 6682045949770364066, -7513427897709275991, 4491174256237679786, 1015249061032006828, -4795194561687554895, 6888406099768218798, 7268315128623748268, 3957974018050651315, -3998578565465074506, 1474641992570270902, -1094099218568727366, 7096112546151568575, 8012390158399583425, 6072719088417871050, 4845279862469539019, -5792682616235485999, 1020130633428505807, -6556501694712032044, 3798345608848512211, 8113021968396915926, 2270207262720677083, -4005842107601472290, -8618206035927223068, -968584388645210910, 590683647462642915, 6421777912574022891, -749832031627602702, -6529053848647592715, 3771071649714443507, -6806074144222710537, 1100790740663784696, 4460925967054304506, -6464706136438352641, 2917363048462734593, -4789303438924860152, -2276840157460343544, 8070245943069938951, 5033819713245107467, 341378241154888985, 5130174795803243799, 1594643248196236571, 6853607935238436119, 5184803879062410526, 5624331566717613343, -5886087982930037468, 2054144562486162725, -8129456134330075858, -6606361422800243411, -1554548989217589968, -1595485688268663503, 2925575949812741423, -2728659225827863244, 6940550014948488506, 905857197250311489, 2862187528963028290, 7016661226229544270, -7419118018572044967, 8095302474584429910, -6200159433361820322, 2565587921062983007, 3546985324079412576, 4733386949307143518, 8309125634835600741, -557117093636041365, -4160321277096028817, 3530743496186484078, 4685594298236769645, -1820117193554643599, 3251460429927306613, -4896620763913751174, 7831696767455876470, -5948667104406440577, 4682978037564446076, 8663316102820361603, 805682418598368649, 2258731947844973961, -6895311175417162355, 6116670078413944199, -5794319885524650598, 4955203351434491287, 6460021785765205410, -1733401964706253402, -2602845450979371608, 2819406228763858353, 1079385860290803124, 551211400436045237, -1343153060274891336, -563342666419620424, -6685743990526732868, 3904971784166380987, 5919522260932728251, -3084824793600346687, 5317300053445965251, 3249395052230374858, 296201429549364694, 2020591631762650582, -3366322329381612071, 2035013877540476376, -4764540959583726116, -3149376295823909, -5284381105590782498, 3529332221194573275, 3841023853228266967, -6957319870634166814, 5494366006982030805, -6956081785957861916, 3174463400899524069, -7918316701585123858, -6833274776609401363, -3391559118405929472, 5085099146938603007, -3099748111533230589, -8755898577035217402, -7156002031130380782, 2147711712272348688, 4533369400370902553, -3437333451311458785, 3515763402021574173, -1211711459603638748, 4964581169898001954, 5298072497604752931, 3315392347056371240, 3089033736691324459, -6521600574157687248, -5364675670011980240, 97906040756713008, -1458548844264294852, -7107773569340901821, -546384496523479484, 8817147093504841283, 3682797442714957383, -8253622912098838957, 1289775881999218258, -36570070388705698, 7806765128935118435, -8169096074213181845, -589155447512770967, 4860083179642566248, -4115765153397500308, -3460631224621410707, -2524576831046232466, 8986535591610848874, -6301686204106762636, -794693798103116174, 8779432198097704562, -6896489406070688135, -8100841303698278787, 3018756656205592187, 1301521906981705341, -6675417585046489470, 7252907329638200959, 1775889379684570756, -316488500694468978, 7466811042558850700, 7470021571705558667, 6733087356908697232, -8074578589199632743, 1530963177487054487, -5022955932747680101, -1311007591539820902, -8687490643383535970, 5779557681466168983, -2864433765124491618, 2121765541527246496, 2940869520128071327, -5175871735401777496, 834167839502022316, 6331102579001956010, -7584779191012493644, -6489713013116889420, 6346608954796308157, 3378272591142418111, 6717743986788480702, 6119546979224843968, 1767947556798691012, 5776153754815395526, 1733184520206137033, 3264146936903112393, 6300414945773123272, 3001239681884067534, -6829664722139965740, -2348299576571234604, -6130408868963838245, -59579415275112739, 166387656569100005, 27165438415754988, 7214822631949514474, -5460406532944005391, -7939409159557572877, -1266265407358118159, -5468711692050745612, -872821293998614798, 5548583836628588272, 6651978653641185005, 5622643694215976692, 1742458381316929271, 187335735488993017, 4150397251235452665, 2627298559939352315, -7178753157253646591, 8698799722864260859, 4204058035222419199, -3656920922677684477, 3582413251553990409, 3753472355010770697, 2862970431616947979, 332357590449518350, 8382693670757914383, -818268108211120362, -6788073150235855075, -4759619550700579038, -7951076745393653975, -7829222961861544151, -5492245956979329240, 8797251851705104174, 7775915218765338415, 7858372201139074864, -3373986304894650569, 4274093573130794815, -7862595020267194551, -7701670311888971950, -2032312652086126765, 1747074401110169427, 1763127436750337888, 3511848433679390560, 4788294627079788385, -4250482778497738906, -2580869594628761754, -4002971163668744344, 5670418625965291366, 6165064221370906467, 7810855035475220329, -8235496909619554445, 2050327881227491184, 8993072768196392815, 322642539622504307, 4323804727916132216, -7995716047965456502, -5071070088082409587, -730962292870539381, -5341696889906079851, 2150249843973904277, 2929266660304074646, 5980874554836531093, -2301968027350386789, 7959690197222758301, -303873264528877657, 8059646785717794727, 6079413527732180911, -6697459660648056907, 1106171684069865398, -1393616911778285641, 5486719671470086071, -7402767672114137154, 4141824397651597244, -1310057956361717826, 8562398421213050811, -2895684371013634105, 6275456764808427464, -5448387655819249711, -6163620495238653997, 1999115997020714965, -5831913231942780967, 8500637060153325525, -2985309276876163110, -7354034640602613795, -6861151626599802915, -151526194406647842, 8515628309286934494, 1089474026159011815, -2316994502849988631, 2645143976857638889, -1392493667991341076, 2486198202844157935, -155685209993816077, -3075417215334959114, 3033442626361284597, -5886616896565872637, -8379724988020377591, -8853530976023201782, -5929393535740798967, 1307684210191906824, -6989395342318258163, 1537691970005342220, -9043344682231859184, 8930104938276304905, -3226904800515975152, 95594935047206929, -4929379280294692841, -7161485977153406946, 3984377255636072476, -6713912947270993887, -836109326605010909, 896454584892160036, -3829335711696611289, -3277434021790353361, 4983430139134679087, 4053345508320057394, -9124691000010434505, -6101768704275277763, 9021338977692301374, -6369826769721477048, 1168478766841854022, -9022502673296009136, 2438941099495110741, -1265538992831981480, 5896189093209028694, -4479274596229826463, -1634056604790294429, 7705785361353193573, 8740515050668185706, -7214411358481794952, -8670828043171293063, -1764869274858571659, 9019918232691529846, 3294665402336245881, -7903364850769766269, 2644246175343319185, -5387003844843448166, 5263741919199918235, 9002775890777241756, -5460249643209033557, 951331661585438892, 3292758397423130797, -6920041029546010446, -6104451397790992204, 920208354757949619, 7231395987635796148, 4035598647695775933, -4874105238307497791, 236982113370749120, -4476687991961511741, -824227633022838587, 3121579507146307781, 7909120555584313540, 7487796648251226318, -2804008026039682859, -7829499138849130279, -1438116502157215525, 4682683259033508058, -4224147882952853276, 6064476341122308321, -1763300158916486939, -1077043993834178319, -8490027368637916939, 2736803892018002163, 7194563540183963889, 5790903970592504054, 3270539202831997182, 6003587223396505854, 1663036169200703750, 2807079663053601031, 5363363108636334344, 2643896410455398666, -2009118714086188786, 6768803539522304273, 667526495650060564, 7955069103096051986, -7594987690279110373, -7115024083124561633, -2354892560025356002, -1570374067742090974, -841604974665279191, 7367144440528230694, 8966812636389808425, 6605616070426630448, 4408938551005493554, -6197844016186459847, -6834046600774649541, -8987110805534803650, 3712079379259603258, -707370616427103937, 5503005266286008639, 6612443652005189955, -1713696123779049145, -1288563180718532279, 2734167295178357070, -2634024553169626797, 419202057583999317, 1959104331841141077, -3205746713892226727, -538256041574049448, 4976898846934628694, 5812769504161429852, -9121917300178208414, -3454280232403961498, -220144175286371993, -8711197608455743125, -6189986466311382678, -4741755748216931986, -9156151359048025742, -1843953085792814736, 3888605579387631985, 9091952321357158767, -3804635974691481227, -7040181405844727426, 2061870602700921212, -3956022204061255298, -7559213840018736759, -5225963066490037876, 8855566405747743115, -7664073907254879854, -1596990770678687341, -2702169769295865441, 7014245671812143516, 7732349388498459040, -6899217818803037777, -6971736992933586503, 5113861209119201719, -3390609913125086785, 7984693758061124035, 2934044593411054023, 5758691656436005319, -1707772846421386804, 348921192869353937, 5252162904445311442, -2857461171729344041, 1728502594447481311, 8502625826465143265, 4250367450287995364, -8002310882063091222, -954537956392388120, 2788485174887225834, 3496437788972243434, -2113713932073821713, -8532343309191611917, -5807251393317864966, 4456842556230810106, -7713564851872802294, -2553407308666414572, 1971541843630553619, -3403910935046686182, 3857005445790611993, 9167381528914614807, -2910870128144197090, 6530185454916205085, -2416788988854658527, 3683768627071670816, -8298136146580383195, -575046435775628762, 2129615867709938218, -334586719490205141, 3544344097172232745, 5698739819123128877, -2020131696324527558, -8869591458674853312, -523235715175990716, 6356112163120052802, 2290587773789002314, -5998207143670261171, 8178527906280561226, 8116455952172210769, 8855673090717899347, -7902886753601897892, 4419403358581455450, -4666631040387122593, -6709357623088473501, -5976710383215445404, -1711578512342418844, 6008906645738314342, -5623360236618442132, -6594811488442172813, 5423557360965827185, -4800850260345046406, -5730194684493636995, -3556833696635790722, -5282524170614752640, -241227508295525762, -8887551967125611900, -778238033024894335, -808277337381602680, 1187547935151757961, -1997224576855893366, -2773514366116332911, 432952460913220244, 2149741227670624917, 6800298638936783509, -3002168386683716962, 5022435226050943644, 3090364783930210977, -184927333971486040, -4150537105551959381, -1849179707886298452, -8756866225149986122, -136057978166412621, 6000831277314628288, -2000627463462503740, -64490615359841594, -3942435930372212024, -7741483047010690355, 2631878109328915145, -4759027277846291761, -1098739695151506728, -2891519278067295526, -2839251979146167587, 7029024254784838369, -522365895561610519, -436304175599895831, 7751833223818607334, -8887588053108655374, -7551237154463655179, -3676801071969436940, 7214823123076086513, -2626082104230765833, -3957970938599007495, -7235860310665782528, 1914296377378208509, -1897171101179987199, 5867962061901658881, 2517353203765500678, -2251811702502909165, -5695171794212136168, 8492203023376890644, 5892381126145440537, 361572535776811805, 5361992348629506843, 7442207826225249054, -8138614575652480215, -5039191632616858839, 3542945597620116262, -2154175797071013071, -1895376600142406860, -7861776846004159684, 7126984487056538428, 4288900034987391808, -7060240974918862010, -2455938764624397487, -189116768862758063, 8694754724178402128, 1684554950185089878, -1972953548094932134, 4687282904718703452, -6795941269797512346, -4913757382343230617, 7351779462415022948, -5111410433754326166, -4985384947232318614, 8046857936629087089, 6563108112752778101, -3555045499140580477, 7408542252514950023, 396518911613819805, -4133210408361739361, -6347879750292431966, 3578380965921536927, 1686588808929549219, -1175684266059752537, 5865159231997795239, 3445703108804647855, -8241165898626483276, -5695974411556987981, 2246510393656359858, 8468652938003897261, -3283588487066215491, -8819931861926323263, 933182206860663743, 7437605088312343486, 216119215264005060, 5408780048048421830, -6434837436478063669, 3495218479411264463, 3258086859043781587, 1229405141796117464, 4226069783417142231, 408550291748363230, 8706493959641332699, -5181922055758996507, -3920255855526478876, -7569372523348812824, -320963842392884239, -2475548952445445129, 7478328830374796276, -7978858125534749695, 7356577101804936191, -4089820300006188026, 6013625798858038280, 8759080266255768584, -605207794787427316, 5091735348796161035, 7619321950819032073, -2837685162666632175, 6301533596279127055, -8383365594108126184, 8063964626111265810, 7578992096352934932, 5503275786227121179, 5826257987615652893, -4519250711604986846, 986056438470868007, -5187566508835185622, 3992094074968718376, -8848089997418062803, -2494144010512860113, 2562434288690297906, 2144660982742989876, -4663037667339903942, -8062422234048095172, 6899295229448027192, -7606638795323278272, 4438179072238115902, 3906789654509263940, 7508270209288584264, 2670824592158850127, -6106219339494925224, 9088332214758579284, -6425986982801621925, -1219257693863592862, -587213632738730908, 3680825543935884388, 5509528429775633507, -7068606161115448214, 5412405371457993829, 7287877158514949219, 8379805384319433829, -1829259430404342676, -8500598817242956682, 1790115722160389235, -6680010094877139849, 1936504336324623481, 298811478056008826, 2921403790043880574, 1018527038228200581, -3323138735242675061, -511835298729616245, 1463867724451126411, 2791609854764801163, 7670932066314992775, 8045143706041556108, -1550716168604435311, 3892400190409776273, -6512032381397623641, -428416974701912922, -2825048896033612630, 2522220840095898794, -606002406306276175, -1490525218606785358, 381995004779863217, 8687449130832026801, 7939520504189426868, -8160952754735276868, 6588259880214674616, -1999829556307895109, 6256676169286335673, 23609909943876800, 8779156752305667262, 5908490143798549696, -2766057881294209851, -5323525319232406327, -2636933356986172214, -6192428856763958068, -4754619188392133427, 5624849422263000269, 1794476028886727893, -5010149284728095528, -8909182458386228001, -9169473609950634781, -1901199988733756188, 7014210079506562275, -5422487333641724693, -2643767292790285068, -7464723853183279876, 3948378804591213819, 3637191192672713981, -1502012653011190528, -3663651143269155581, -4361204824592032508, 4459993252912012546, -7160697380380771059, 4275352977072995593, 3968715231886359821, -875479629965353712, -4496404051953197799, -2731909679010595556, 669194597703548188, 3580836147919527195, 7670716832133971225, 2109332457089334559, 8845568435566230813, -2101267631188099802, -1701370993854636759, -7655970724565131987, 5093030244052213032, -1452201989636801230, 4241947216959741234, 8255748489972776243, -8279662377094988486, 8086492473386884408, 5561006092863380797, -7730344378401129147, 9083453489980652864, 4383171309345357125, -5520374273054237366, 2214528208224623944, 8313043160826002757, 1835985808311844171, -5142786433828315822, -9137023030032073385, 7462571680487120218, -3836843576256348830, -288951459756810902, 3214221158338674027, 3295382003626106219, 1597794437987057008, -8791392515603219083, 6107286681045720432, 8846210482485591410, -6552372621819658888, 934613027362930041, -368316899425821318, 3082052931415883135, 6960102586765999485, -7376540069957919355, -5256720921803915896, 2804226638471888261, 6318508404400168330, 5295690417630141835, 8156833188122402192, 5079234286261353876, 1330035221853699487, -5427975621561729630, -7927173565443727963, -872652739738346075, 1288760349721255333, 7321218688073571747, -1356058344762909272, 4910323264649305510, 7015220572203138472, 870955541788376495, -991201603303850575, 6806062226564808111, -8126606904828461641, -6985799782053249607, -3102483477552775752, -8757673954317091392, -5415122451506750010, -3793964492240871991, -2877734005118689847, -5211919823187526189, -902626169895985708, -3731341005449937443, -4352215280592577058, 1416260182812663263, -2152592903350714912, 2181398200771329503, 5155042077315579357, 8689014236924091874, -3772014259924181529, -2734554415563022871, -8006055494910812692, -2870278684540330517, -8391562529674052114, -6882526219285537295, 1480876773830467067, 4899759809157815806, -6830213876024705533, 2434757564002565640, 9134386448402595337, 650313793124621837, -6456885744743793117, -1990934350664827356, -7483646897493549528, 5399251882607656483, -9160641044455555542, -4606038440506474958, 5559356861635518004, 100021336846646845, 8830735742780694075, -8480797572857602488, 414859780674199109, 781824651081539146, 7033117160259239497, -3648124344885879218, -7781115838097113519, -2839827800735064497, -5307789642811351470, 193746072316812880, 1598201863075266130, 6675138172293365329, 7038248185236069972, -3484940685119963557, -4313722488229372324, 4434095662137196123, -1854305225980428704, -1640381664859439518, 8547868805110881887, -1531323114412065179, 6865722370776800869, 1096195706379984489, -4183560544659644814, 9207752748881739374, 3072159686687235704, -8750913047254483331, -2368967094999916933, 8361035992942558846, 6729007807547326081, 2751223807487123076, -4047710140457173361, -1446080305089634670, -7172597198176207208, -1265305909968355689, -5392524388098433378, -2815741150834712931, -740664782491058528, 6700883972409933472, -2172832408445845847, 2593810638460534443, 7385156109094969007, -8775154582142255428, 645275018664287929, 5447685928575524535, -2196461961169346877, 654863262555807429, -8101016671278457143, 3077994499171245764, 6708116168053112526, -7995723189175312680, 5091561039189032662, 3070972314397236953, 4137045244096216800, 8928611166827093728, 6746020138037501669, 1137833693194264297, 3282801722528210666, -3868250950623297810, -3594308175474778386, -1568424208206995730, 2898803357013745390, 3039184508624428783, 1133834381389209336, 8331071239522025208, -8704792208675447041, -8091953756282781952, 576710559638224642, -4290906305872781558, -5326239229408968945, 7537297545662512913, 6119806219125923610, -7988084108650127581, -6033647522440978651, 1298223078883720996, 5653002465499324195, -6620747617970036950, 5638072318921604903, -661495824188047573, 9169154938256473898, 3199707043515465520, -2660962944509477065, -5566973559957905607, 2406141044413112121, -5221769418589487295, 6812120907277696831, 6229589754777829187, 7153481859598303047, -5468885020257935539, 8395191558684319560, 3145656162898706253, -5189512360801239215, 7511763197817413453, 2331819429394079569, 6980124171409882959, -1601906907013382315, -240631388183019691, 6120619741439950677, -2403335759326339238, -724625303049928868, 777281291248983900, 4263633192223399772, 4166504019089301344, -6363956263107674261, 1738628797595869039, -1030396821046042766, 1411053822869389183, -7272440179161792636, 5508007589108514691, 346743113344024460, -5118884330550714481, 7749416533922660235, -2619246827451678831, 8026612417805385618, 7218143321244721051, 8566372180572356508, -1668748331690639454, -8828880005078794329, -3151789503236169818, 3284638440856870819, -5267660832228982865, -2044306202160463955, 626720351515975598, -1247124050422464592, -4182064296803270732, 8459982666230054834, 6949829177026092979, -1348421820512927807, -3353199816493064248, 5069863632973209561, 1647848323000901598, -1299516311776215073, 5329807249891901404, 226519402725621730, 5038811272997355488, -5609342668156600342, -4862014618729455637, -6496265743527796755, 8192566684414623723, 831756589868007412, 3000853683111256053, -2130981867680759816, -7436472183056531460, -3899689807825305602}\n",
      "Sample content for Text 1:\n",
      "HAPTER I.\n",
      "\n",
      "\n",
      "The studio was filled with the rich odour of roses, and when the light\n",
      "summer wind stirred amidst the trees of the garden, there came through\n",
      "the open door the heavy scent of the lilac, or\n",
      "Sample content for Text 2:\n",
      "I. A SCANDAL IN BOHEMIA\n",
      "\n",
      "\n",
      "I.\n",
      "\n",
      "To Sherlock Holmes she is always _the_ woman. I have seldom heard him\n",
      "mention her under any other name. In his eyes she eclipses and\n",
      "predominates the whole of her sex. It\n"
     ]
    }
   ],
   "source": [
    "import numpy as np\n",
    "\n",
    "class CompareSignatures:\n",
    "    \n",
    "    def __init__(self):\n",
    "        pass\n",
    "    \n",
    "    def estimate_similarity(self, signature1: np.ndarray, signature2: np.ndarray) -> float:\n",
    "        \"\"\"\n",
    "        This method estimates the similarity of two minhash signatures as the probability to have an equal entry in the signatures.\n",
    "        \"\"\"\n",
    "        if signature1.shape != signature2.shape:\n",
    "            raise ValueError(\"Signatures must have the same shape for comparison.\")\n",
    "        \n",
    "        return np.sum(signature1 == signature2) / len(signature1)\n",
    "\n",
    "# Example usage:\n",
    "compare_signatures = CompareSignatures()\n",
    "\n",
    "# Example: Estimate the similarity of MinHash signatures for Text 1 and Text 2\n",
    "minhash_signature_text1 = minhashing.compute_minhash_signature(set(hashed_shingles_list[0]))\n",
    "minhash_signature_text2 = minhashing.compute_minhash_signature(set(hashed_shingles_list[1]))\n",
    "\n",
    "similarity = compare_signatures.estimate_similarity(minhash_signature_text1, minhash_signature_text2)\n",
    "print(f\"Estimated similarity between Text 1 and Text 2: {similarity:.2f}\")\n",
    "\n",
    "# Print the hashed shingles for Text 1 and Text 2\n",
    "print(f\"Hashed shingles for Text 1: {set(hashed_shingles_list[0])}\")\n",
    "print(f\"Hashed shingles for Text 2: {set(hashed_shingles_list[1])}\")\n",
    "\n",
    "# Print a sample of the content for Text 1 and Text 2\n",
    "print(f\"Sample content for Text 1:\\n{texts[0][:200]}\")\n",
    "print(f\"Sample content for Text 2:\\n{texts[1][:200]}\")\n",
    "\n"
   ]
  },
  {
   "cell_type": "markdown",
   "metadata": {},
   "source": [
    "## LSH"
   ]
  }
 ],
 "metadata": {
  "kernelspec": {
   "display_name": "Python 3 (ipykernel)",
   "language": "python",
   "name": "python3"
  },
  "language_info": {
   "codemirror_mode": {
    "name": "ipython",
    "version": 3
   },
   "file_extension": ".py",
   "mimetype": "text/x-python",
   "name": "python",
   "nbconvert_exporter": "python",
   "pygments_lexer": "ipython3",
   "version": "3.11.5"
  }
 },
 "nbformat": 4,
 "nbformat_minor": 2
}
